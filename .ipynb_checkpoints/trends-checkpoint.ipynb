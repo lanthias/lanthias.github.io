{
 "cells": [
  {
   "cell_type": "code",
   "execution_count": 1,
   "metadata": {},
   "outputs": [],
   "source": [
    "import datapane as dp\n",
    "import pandas as pd\n",
    "from pytrends.request import TrendReq\n",
    "import altair as alt\n",
    "\n",
    "pytrends = TrendReq(hl='en-US', tz=360)\n",
    "dp.Params.load_defaults('datapane.yaml')\n",
    "kw_list = dp.Params.get('query', 'dataisbeautiful')\n"
   ]
  },
  {
   "cell_type": "code",
   "execution_count": 2,
   "metadata": {},
   "outputs": [],
   "source": [
    "pytrends.build_payload([kw_list], cat=0, timeframe='today 5-y', geo='US', gprop='')\n"
   ]
  },
  {
   "cell_type": "code",
   "execution_count": 3,
   "metadata": {},
   "outputs": [],
   "source": [
    "r_o_t = pytrends.interest_over_time().reset_index()\n"
   ]
  },
  {
   "cell_type": "code",
   "execution_count": 4,
   "metadata": {},
   "outputs": [],
   "source": [
    "regions = pytrends.interest_by_region(resolution='REGION', inc_geo_code=True)"
   ]
  },
  {
   "cell_type": "code",
   "execution_count": 5,
   "metadata": {},
   "outputs": [],
   "source": [
    "geo = regions[regions[kw_list] > 0].reset_index()"
   ]
  },
  {
   "cell_type": "code",
   "execution_count": 6,
   "metadata": {},
   "outputs": [
    {
     "data": {
      "text/html": [
       "\n",
       "<div id=\"altair-viz-9e1962d370bc4c3e8dde2e195af5a828\"></div>\n",
       "<script type=\"text/javascript\">\n",
       "  (function(spec, embedOpt){\n",
       "    let outputDiv = document.currentScript.previousElementSibling;\n",
       "    if (outputDiv.id !== \"altair-viz-9e1962d370bc4c3e8dde2e195af5a828\") {\n",
       "      outputDiv = document.getElementById(\"altair-viz-9e1962d370bc4c3e8dde2e195af5a828\");\n",
       "    }\n",
       "    const paths = {\n",
       "      \"vega\": \"https://cdn.jsdelivr.net/npm//vega@5?noext\",\n",
       "      \"vega-lib\": \"https://cdn.jsdelivr.net/npm//vega-lib?noext\",\n",
       "      \"vega-lite\": \"https://cdn.jsdelivr.net/npm//vega-lite@4.8.1?noext\",\n",
       "      \"vega-embed\": \"https://cdn.jsdelivr.net/npm//vega-embed@6?noext\",\n",
       "    };\n",
       "\n",
       "    function loadScript(lib) {\n",
       "      return new Promise(function(resolve, reject) {\n",
       "        var s = document.createElement('script');\n",
       "        s.src = paths[lib];\n",
       "        s.async = true;\n",
       "        s.onload = () => resolve(paths[lib]);\n",
       "        s.onerror = () => reject(`Error loading script: ${paths[lib]}`);\n",
       "        document.getElementsByTagName(\"head\")[0].appendChild(s);\n",
       "      });\n",
       "    }\n",
       "\n",
       "    function showError(err) {\n",
       "      outputDiv.innerHTML = `<div class=\"error\" style=\"color:red;\">${err}</div>`;\n",
       "      throw err;\n",
       "    }\n",
       "\n",
       "    function displayChart(vegaEmbed) {\n",
       "      vegaEmbed(outputDiv, spec, embedOpt)\n",
       "        .catch(err => showError(`Javascript Error: ${err.message}<br>This usually means there's a typo in your chart specification. See the javascript console for the full traceback.`));\n",
       "    }\n",
       "\n",
       "    if(typeof define === \"function\" && define.amd) {\n",
       "      requirejs.config({paths});\n",
       "      require([\"vega-embed\"], displayChart, err => showError(`Error loading script: ${err.message}`));\n",
       "    } else if (typeof vegaEmbed === \"function\") {\n",
       "      displayChart(vegaEmbed);\n",
       "    } else {\n",
       "      loadScript(\"vega\")\n",
       "        .then(() => loadScript(\"vega-lite\"))\n",
       "        .then(() => loadScript(\"vega-embed\"))\n",
       "        .catch(showError)\n",
       "        .then(() => displayChart(vegaEmbed));\n",
       "    }\n",
       "  })({\"config\": {\"view\": {\"continuousWidth\": 400, \"continuousHeight\": 300}}, \"data\": {\"name\": \"data-2fe0d1a2509c00444d3af9b84298caf5\"}, \"mark\": {\"type\": \"area\", \"line\": true}, \"encoding\": {\"x\": {\"type\": \"temporal\", \"field\": \"date\"}, \"y\": {\"type\": \"quantitative\", \"field\": \"dataisbeautiful\"}}, \"selection\": {\"selector001\": {\"type\": \"interval\", \"bind\": \"scales\", \"encodings\": [\"x\", \"y\"]}}, \"width\": 700, \"$schema\": \"https://vega.github.io/schema/vega-lite/v4.8.1.json\", \"datasets\": {\"data-2fe0d1a2509c00444d3af9b84298caf5\": [{\"date\": \"2015-05-17T00:00:00\", \"dataisbeautiful\": 0, \"isPartial\": \"False\"}, {\"date\": \"2015-05-24T00:00:00\", \"dataisbeautiful\": 21, \"isPartial\": \"False\"}, {\"date\": \"2015-05-31T00:00:00\", \"dataisbeautiful\": 14, \"isPartial\": \"False\"}, {\"date\": \"2015-06-07T00:00:00\", \"dataisbeautiful\": 0, \"isPartial\": \"False\"}, {\"date\": \"2015-06-14T00:00:00\", \"dataisbeautiful\": 14, \"isPartial\": \"False\"}, {\"date\": \"2015-06-21T00:00:00\", \"dataisbeautiful\": 14, \"isPartial\": \"False\"}, {\"date\": \"2015-06-28T00:00:00\", \"dataisbeautiful\": 0, \"isPartial\": \"False\"}, {\"date\": \"2015-07-05T00:00:00\", \"dataisbeautiful\": 14, \"isPartial\": \"False\"}, {\"date\": \"2015-07-12T00:00:00\", \"dataisbeautiful\": 14, \"isPartial\": \"False\"}, {\"date\": \"2015-07-19T00:00:00\", \"dataisbeautiful\": 0, \"isPartial\": \"False\"}, {\"date\": \"2015-07-26T00:00:00\", \"dataisbeautiful\": 14, \"isPartial\": \"False\"}, {\"date\": \"2015-08-02T00:00:00\", \"dataisbeautiful\": 27, \"isPartial\": \"False\"}, {\"date\": \"2015-08-09T00:00:00\", \"dataisbeautiful\": 0, \"isPartial\": \"False\"}, {\"date\": \"2015-08-16T00:00:00\", \"dataisbeautiful\": 40, \"isPartial\": \"False\"}, {\"date\": \"2015-08-23T00:00:00\", \"dataisbeautiful\": 0, \"isPartial\": \"False\"}, {\"date\": \"2015-08-30T00:00:00\", \"dataisbeautiful\": 26, \"isPartial\": \"False\"}, {\"date\": \"2015-09-06T00:00:00\", \"dataisbeautiful\": 13, \"isPartial\": \"False\"}, {\"date\": \"2015-09-13T00:00:00\", \"dataisbeautiful\": 13, \"isPartial\": \"False\"}, {\"date\": \"2015-09-20T00:00:00\", \"dataisbeautiful\": 13, \"isPartial\": \"False\"}, {\"date\": \"2015-09-27T00:00:00\", \"dataisbeautiful\": 12, \"isPartial\": \"False\"}, {\"date\": \"2015-10-04T00:00:00\", \"dataisbeautiful\": 0, \"isPartial\": \"False\"}, {\"date\": \"2015-10-11T00:00:00\", \"dataisbeautiful\": 13, \"isPartial\": \"False\"}, {\"date\": \"2015-10-18T00:00:00\", \"dataisbeautiful\": 12, \"isPartial\": \"False\"}, {\"date\": \"2015-10-25T00:00:00\", \"dataisbeautiful\": 12, \"isPartial\": \"False\"}, {\"date\": \"2015-11-01T00:00:00\", \"dataisbeautiful\": 12, \"isPartial\": \"False\"}, {\"date\": \"2015-11-08T00:00:00\", \"dataisbeautiful\": 12, \"isPartial\": \"False\"}, {\"date\": \"2015-11-15T00:00:00\", \"dataisbeautiful\": 24, \"isPartial\": \"False\"}, {\"date\": \"2015-11-22T00:00:00\", \"dataisbeautiful\": 13, \"isPartial\": \"False\"}, {\"date\": \"2015-11-29T00:00:00\", \"dataisbeautiful\": 0, \"isPartial\": \"False\"}, {\"date\": \"2015-12-06T00:00:00\", \"dataisbeautiful\": 0, \"isPartial\": \"False\"}, {\"date\": \"2015-12-13T00:00:00\", \"dataisbeautiful\": 12, \"isPartial\": \"False\"}, {\"date\": \"2015-12-20T00:00:00\", \"dataisbeautiful\": 14, \"isPartial\": \"False\"}, {\"date\": \"2015-12-27T00:00:00\", \"dataisbeautiful\": 13, \"isPartial\": \"False\"}, {\"date\": \"2016-01-03T00:00:00\", \"dataisbeautiful\": 16, \"isPartial\": \"False\"}, {\"date\": \"2016-01-10T00:00:00\", \"dataisbeautiful\": 10, \"isPartial\": \"False\"}, {\"date\": \"2016-01-17T00:00:00\", \"dataisbeautiful\": 41, \"isPartial\": \"False\"}, {\"date\": \"2016-01-24T00:00:00\", \"dataisbeautiful\": 10, \"isPartial\": \"False\"}, {\"date\": \"2016-01-31T00:00:00\", \"dataisbeautiful\": 10, \"isPartial\": \"False\"}, {\"date\": \"2016-02-07T00:00:00\", \"dataisbeautiful\": 20, \"isPartial\": \"False\"}, {\"date\": \"2016-02-14T00:00:00\", \"dataisbeautiful\": 20, \"isPartial\": \"False\"}, {\"date\": \"2016-02-21T00:00:00\", \"dataisbeautiful\": 10, \"isPartial\": \"False\"}, {\"date\": \"2016-02-28T00:00:00\", \"dataisbeautiful\": 10, \"isPartial\": \"False\"}, {\"date\": \"2016-03-06T00:00:00\", \"dataisbeautiful\": 20, \"isPartial\": \"False\"}, {\"date\": \"2016-03-13T00:00:00\", \"dataisbeautiful\": 0, \"isPartial\": \"False\"}, {\"date\": \"2016-03-20T00:00:00\", \"dataisbeautiful\": 10, \"isPartial\": \"False\"}, {\"date\": \"2016-03-27T00:00:00\", \"dataisbeautiful\": 0, \"isPartial\": \"False\"}, {\"date\": \"2016-04-03T00:00:00\", \"dataisbeautiful\": 0, \"isPartial\": \"False\"}, {\"date\": \"2016-04-10T00:00:00\", \"dataisbeautiful\": 15, \"isPartial\": \"False\"}, {\"date\": \"2016-04-17T00:00:00\", \"dataisbeautiful\": 10, \"isPartial\": \"False\"}, {\"date\": \"2016-04-24T00:00:00\", \"dataisbeautiful\": 10, \"isPartial\": \"False\"}, {\"date\": \"2016-05-01T00:00:00\", \"dataisbeautiful\": 20, \"isPartial\": \"False\"}, {\"date\": \"2016-05-08T00:00:00\", \"dataisbeautiful\": 41, \"isPartial\": \"False\"}, {\"date\": \"2016-05-15T00:00:00\", \"dataisbeautiful\": 10, \"isPartial\": \"False\"}, {\"date\": \"2016-05-22T00:00:00\", \"dataisbeautiful\": 11, \"isPartial\": \"False\"}, {\"date\": \"2016-05-29T00:00:00\", \"dataisbeautiful\": 11, \"isPartial\": \"False\"}, {\"date\": \"2016-06-05T00:00:00\", \"dataisbeautiful\": 10, \"isPartial\": \"False\"}, {\"date\": \"2016-06-12T00:00:00\", \"dataisbeautiful\": 0, \"isPartial\": \"False\"}, {\"date\": \"2016-06-19T00:00:00\", \"dataisbeautiful\": 16, \"isPartial\": \"False\"}, {\"date\": \"2016-06-26T00:00:00\", \"dataisbeautiful\": 11, \"isPartial\": \"False\"}, {\"date\": \"2016-07-03T00:00:00\", \"dataisbeautiful\": 17, \"isPartial\": \"False\"}, {\"date\": \"2016-07-10T00:00:00\", \"dataisbeautiful\": 16, \"isPartial\": \"False\"}, {\"date\": \"2016-07-17T00:00:00\", \"dataisbeautiful\": 11, \"isPartial\": \"False\"}, {\"date\": \"2016-07-24T00:00:00\", \"dataisbeautiful\": 11, \"isPartial\": \"False\"}, {\"date\": \"2016-07-31T00:00:00\", \"dataisbeautiful\": 22, \"isPartial\": \"False\"}, {\"date\": \"2016-08-07T00:00:00\", \"dataisbeautiful\": 22, \"isPartial\": \"False\"}, {\"date\": \"2016-08-14T00:00:00\", \"dataisbeautiful\": 11, \"isPartial\": \"False\"}, {\"date\": \"2016-08-21T00:00:00\", \"dataisbeautiful\": 11, \"isPartial\": \"False\"}, {\"date\": \"2016-08-28T00:00:00\", \"dataisbeautiful\": 31, \"isPartial\": \"False\"}, {\"date\": \"2016-09-04T00:00:00\", \"dataisbeautiful\": 21, \"isPartial\": \"False\"}, {\"date\": \"2016-09-11T00:00:00\", \"dataisbeautiful\": 15, \"isPartial\": \"False\"}, {\"date\": \"2016-09-18T00:00:00\", \"dataisbeautiful\": 10, \"isPartial\": \"False\"}, {\"date\": \"2016-09-25T00:00:00\", \"dataisbeautiful\": 10, \"isPartial\": \"False\"}, {\"date\": \"2016-10-02T00:00:00\", \"dataisbeautiful\": 20, \"isPartial\": \"False\"}, {\"date\": \"2016-10-09T00:00:00\", \"dataisbeautiful\": 0, \"isPartial\": \"False\"}, {\"date\": \"2016-10-16T00:00:00\", \"dataisbeautiful\": 10, \"isPartial\": \"False\"}, {\"date\": \"2016-10-23T00:00:00\", \"dataisbeautiful\": 15, \"isPartial\": \"False\"}, {\"date\": \"2016-10-30T00:00:00\", \"dataisbeautiful\": 15, \"isPartial\": \"False\"}, {\"date\": \"2016-11-06T00:00:00\", \"dataisbeautiful\": 10, \"isPartial\": \"False\"}, {\"date\": \"2016-11-13T00:00:00\", \"dataisbeautiful\": 10, \"isPartial\": \"False\"}, {\"date\": \"2016-11-20T00:00:00\", \"dataisbeautiful\": 31, \"isPartial\": \"False\"}, {\"date\": \"2016-11-27T00:00:00\", \"dataisbeautiful\": 19, \"isPartial\": \"False\"}, {\"date\": \"2016-12-04T00:00:00\", \"dataisbeautiful\": 18, \"isPartial\": \"False\"}, {\"date\": \"2016-12-11T00:00:00\", \"dataisbeautiful\": 9, \"isPartial\": \"False\"}, {\"date\": \"2016-12-18T00:00:00\", \"dataisbeautiful\": 10, \"isPartial\": \"False\"}, {\"date\": \"2016-12-25T00:00:00\", \"dataisbeautiful\": 10, \"isPartial\": \"False\"}, {\"date\": \"2017-01-01T00:00:00\", \"dataisbeautiful\": 10, \"isPartial\": \"False\"}, {\"date\": \"2017-01-08T00:00:00\", \"dataisbeautiful\": 9, \"isPartial\": \"False\"}, {\"date\": \"2017-01-15T00:00:00\", \"dataisbeautiful\": 9, \"isPartial\": \"False\"}, {\"date\": \"2017-01-22T00:00:00\", \"dataisbeautiful\": 18, \"isPartial\": \"False\"}, {\"date\": \"2017-01-29T00:00:00\", \"dataisbeautiful\": 9, \"isPartial\": \"False\"}, {\"date\": \"2017-02-05T00:00:00\", \"dataisbeautiful\": 14, \"isPartial\": \"False\"}, {\"date\": \"2017-02-12T00:00:00\", \"dataisbeautiful\": 9, \"isPartial\": \"False\"}, {\"date\": \"2017-02-19T00:00:00\", \"dataisbeautiful\": 9, \"isPartial\": \"False\"}, {\"date\": \"2017-02-26T00:00:00\", \"dataisbeautiful\": 0, \"isPartial\": \"False\"}, {\"date\": \"2017-03-05T00:00:00\", \"dataisbeautiful\": 18, \"isPartial\": \"False\"}, {\"date\": \"2017-03-12T00:00:00\", \"dataisbeautiful\": 27, \"isPartial\": \"False\"}, {\"date\": \"2017-03-19T00:00:00\", \"dataisbeautiful\": 14, \"isPartial\": \"False\"}, {\"date\": \"2017-03-26T00:00:00\", \"dataisbeautiful\": 18, \"isPartial\": \"False\"}, {\"date\": \"2017-04-02T00:00:00\", \"dataisbeautiful\": 9, \"isPartial\": \"False\"}, {\"date\": \"2017-04-09T00:00:00\", \"dataisbeautiful\": 9, \"isPartial\": \"False\"}, {\"date\": \"2017-04-16T00:00:00\", \"dataisbeautiful\": 9, \"isPartial\": \"False\"}, {\"date\": \"2017-04-23T00:00:00\", \"dataisbeautiful\": 18, \"isPartial\": \"False\"}, {\"date\": \"2017-04-30T00:00:00\", \"dataisbeautiful\": 9, \"isPartial\": \"False\"}, {\"date\": \"2017-05-07T00:00:00\", \"dataisbeautiful\": 9, \"isPartial\": \"False\"}, {\"date\": \"2017-05-14T00:00:00\", \"dataisbeautiful\": 10, \"isPartial\": \"False\"}, {\"date\": \"2017-05-21T00:00:00\", \"dataisbeautiful\": 0, \"isPartial\": \"False\"}, {\"date\": \"2017-05-28T00:00:00\", \"dataisbeautiful\": 10, \"isPartial\": \"False\"}, {\"date\": \"2017-06-04T00:00:00\", \"dataisbeautiful\": 10, \"isPartial\": \"False\"}, {\"date\": \"2017-06-11T00:00:00\", \"dataisbeautiful\": 10, \"isPartial\": \"False\"}, {\"date\": \"2017-06-18T00:00:00\", \"dataisbeautiful\": 15, \"isPartial\": \"False\"}, {\"date\": \"2017-06-25T00:00:00\", \"dataisbeautiful\": 10, \"isPartial\": \"False\"}, {\"date\": \"2017-07-02T00:00:00\", \"dataisbeautiful\": 11, \"isPartial\": \"False\"}, {\"date\": \"2017-07-09T00:00:00\", \"dataisbeautiful\": 10, \"isPartial\": \"False\"}, {\"date\": \"2017-07-16T00:00:00\", \"dataisbeautiful\": 10, \"isPartial\": \"False\"}, {\"date\": \"2017-07-23T00:00:00\", \"dataisbeautiful\": 15, \"isPartial\": \"False\"}, {\"date\": \"2017-07-30T00:00:00\", \"dataisbeautiful\": 10, \"isPartial\": \"False\"}, {\"date\": \"2017-08-06T00:00:00\", \"dataisbeautiful\": 24, \"isPartial\": \"False\"}, {\"date\": \"2017-08-13T00:00:00\", \"dataisbeautiful\": 10, \"isPartial\": \"False\"}, {\"date\": \"2017-08-20T00:00:00\", \"dataisbeautiful\": 10, \"isPartial\": \"False\"}, {\"date\": \"2017-08-27T00:00:00\", \"dataisbeautiful\": 0, \"isPartial\": \"False\"}, {\"date\": \"2017-09-03T00:00:00\", \"dataisbeautiful\": 0, \"isPartial\": \"False\"}, {\"date\": \"2017-09-10T00:00:00\", \"dataisbeautiful\": 9, \"isPartial\": \"False\"}, {\"date\": \"2017-09-17T00:00:00\", \"dataisbeautiful\": 14, \"isPartial\": \"False\"}, {\"date\": \"2017-09-24T00:00:00\", \"dataisbeautiful\": 9, \"isPartial\": \"False\"}, {\"date\": \"2017-10-01T00:00:00\", \"dataisbeautiful\": 18, \"isPartial\": \"False\"}, {\"date\": \"2017-10-08T00:00:00\", \"dataisbeautiful\": 9, \"isPartial\": \"False\"}, {\"date\": \"2017-10-15T00:00:00\", \"dataisbeautiful\": 19, \"isPartial\": \"False\"}, {\"date\": \"2017-10-22T00:00:00\", \"dataisbeautiful\": 0, \"isPartial\": \"False\"}, {\"date\": \"2017-10-29T00:00:00\", \"dataisbeautiful\": 9, \"isPartial\": \"False\"}, {\"date\": \"2017-11-05T00:00:00\", \"dataisbeautiful\": 18, \"isPartial\": \"False\"}, {\"date\": \"2017-11-12T00:00:00\", \"dataisbeautiful\": 9, \"isPartial\": \"False\"}, {\"date\": \"2017-11-19T00:00:00\", \"dataisbeautiful\": 19, \"isPartial\": \"False\"}, {\"date\": \"2017-11-26T00:00:00\", \"dataisbeautiful\": 26, \"isPartial\": \"False\"}, {\"date\": \"2017-12-03T00:00:00\", \"dataisbeautiful\": 9, \"isPartial\": \"False\"}, {\"date\": \"2017-12-10T00:00:00\", \"dataisbeautiful\": 9, \"isPartial\": \"False\"}, {\"date\": \"2017-12-17T00:00:00\", \"dataisbeautiful\": 20, \"isPartial\": \"False\"}, {\"date\": \"2017-12-24T00:00:00\", \"dataisbeautiful\": 0, \"isPartial\": \"False\"}, {\"date\": \"2017-12-31T00:00:00\", \"dataisbeautiful\": 38, \"isPartial\": \"False\"}, {\"date\": \"2018-01-07T00:00:00\", \"dataisbeautiful\": 13, \"isPartial\": \"False\"}, {\"date\": \"2018-01-14T00:00:00\", \"dataisbeautiful\": 0, \"isPartial\": \"False\"}, {\"date\": \"2018-01-21T00:00:00\", \"dataisbeautiful\": 18, \"isPartial\": \"False\"}, {\"date\": \"2018-01-28T00:00:00\", \"dataisbeautiful\": 9, \"isPartial\": \"False\"}, {\"date\": \"2018-02-04T00:00:00\", \"dataisbeautiful\": 9, \"isPartial\": \"False\"}, {\"date\": \"2018-02-11T00:00:00\", \"dataisbeautiful\": 13, \"isPartial\": \"False\"}, {\"date\": \"2018-02-18T00:00:00\", \"dataisbeautiful\": 9, \"isPartial\": \"False\"}, {\"date\": \"2018-02-25T00:00:00\", \"dataisbeautiful\": 13, \"isPartial\": \"False\"}, {\"date\": \"2018-03-04T00:00:00\", \"dataisbeautiful\": 0, \"isPartial\": \"False\"}, {\"date\": \"2018-03-11T00:00:00\", \"dataisbeautiful\": 9, \"isPartial\": \"False\"}, {\"date\": \"2018-03-18T00:00:00\", \"dataisbeautiful\": 18, \"isPartial\": \"False\"}, {\"date\": \"2018-03-25T00:00:00\", \"dataisbeautiful\": 14, \"isPartial\": \"False\"}, {\"date\": \"2018-04-01T00:00:00\", \"dataisbeautiful\": 18, \"isPartial\": \"False\"}, {\"date\": \"2018-04-08T00:00:00\", \"dataisbeautiful\": 9, \"isPartial\": \"False\"}, {\"date\": \"2018-04-15T00:00:00\", \"dataisbeautiful\": 9, \"isPartial\": \"False\"}, {\"date\": \"2018-04-22T00:00:00\", \"dataisbeautiful\": 27, \"isPartial\": \"False\"}, {\"date\": \"2018-04-29T00:00:00\", \"dataisbeautiful\": 9, \"isPartial\": \"False\"}, {\"date\": \"2018-05-06T00:00:00\", \"dataisbeautiful\": 0, \"isPartial\": \"False\"}, {\"date\": \"2018-05-13T00:00:00\", \"dataisbeautiful\": 9, \"isPartial\": \"False\"}, {\"date\": \"2018-05-20T00:00:00\", \"dataisbeautiful\": 19, \"isPartial\": \"False\"}, {\"date\": \"2018-05-27T00:00:00\", \"dataisbeautiful\": 0, \"isPartial\": \"False\"}, {\"date\": \"2018-06-03T00:00:00\", \"dataisbeautiful\": 9, \"isPartial\": \"False\"}, {\"date\": \"2018-06-10T00:00:00\", \"dataisbeautiful\": 9, \"isPartial\": \"False\"}, {\"date\": \"2018-06-17T00:00:00\", \"dataisbeautiful\": 9, \"isPartial\": \"False\"}, {\"date\": \"2018-06-24T00:00:00\", \"dataisbeautiful\": 9, \"isPartial\": \"False\"}, {\"date\": \"2018-07-01T00:00:00\", \"dataisbeautiful\": 10, \"isPartial\": \"False\"}, {\"date\": \"2018-07-08T00:00:00\", \"dataisbeautiful\": 9, \"isPartial\": \"False\"}, {\"date\": \"2018-07-15T00:00:00\", \"dataisbeautiful\": 10, \"isPartial\": \"False\"}, {\"date\": \"2018-07-22T00:00:00\", \"dataisbeautiful\": 9, \"isPartial\": \"False\"}, {\"date\": \"2018-07-29T00:00:00\", \"dataisbeautiful\": 0, \"isPartial\": \"False\"}, {\"date\": \"2018-08-05T00:00:00\", \"dataisbeautiful\": 9, \"isPartial\": \"False\"}, {\"date\": \"2018-08-12T00:00:00\", \"dataisbeautiful\": 9, \"isPartial\": \"False\"}, {\"date\": \"2018-08-19T00:00:00\", \"dataisbeautiful\": 0, \"isPartial\": \"False\"}, {\"date\": \"2018-08-26T00:00:00\", \"dataisbeautiful\": 0, \"isPartial\": \"False\"}, {\"date\": \"2018-09-02T00:00:00\", \"dataisbeautiful\": 9, \"isPartial\": \"False\"}, {\"date\": \"2018-09-09T00:00:00\", \"dataisbeautiful\": 18, \"isPartial\": \"False\"}, {\"date\": \"2018-09-16T00:00:00\", \"dataisbeautiful\": 0, \"isPartial\": \"False\"}, {\"date\": \"2018-09-23T00:00:00\", \"dataisbeautiful\": 9, \"isPartial\": \"False\"}, {\"date\": \"2018-09-30T00:00:00\", \"dataisbeautiful\": 0, \"isPartial\": \"False\"}, {\"date\": \"2018-10-07T00:00:00\", \"dataisbeautiful\": 14, \"isPartial\": \"False\"}, {\"date\": \"2018-10-14T00:00:00\", \"dataisbeautiful\": 0, \"isPartial\": \"False\"}, {\"date\": \"2018-10-21T00:00:00\", \"dataisbeautiful\": 18, \"isPartial\": \"False\"}, {\"date\": \"2018-10-28T00:00:00\", \"dataisbeautiful\": 27, \"isPartial\": \"False\"}, {\"date\": \"2018-11-04T00:00:00\", \"dataisbeautiful\": 9, \"isPartial\": \"False\"}, {\"date\": \"2018-11-11T00:00:00\", \"dataisbeautiful\": 18, \"isPartial\": \"False\"}, {\"date\": \"2018-11-18T00:00:00\", \"dataisbeautiful\": 14, \"isPartial\": \"False\"}, {\"date\": \"2018-11-25T00:00:00\", \"dataisbeautiful\": 0, \"isPartial\": \"False\"}, {\"date\": \"2018-12-02T00:00:00\", \"dataisbeautiful\": 0, \"isPartial\": \"False\"}, {\"date\": \"2018-12-09T00:00:00\", \"dataisbeautiful\": 9, \"isPartial\": \"False\"}, {\"date\": \"2018-12-16T00:00:00\", \"dataisbeautiful\": 9, \"isPartial\": \"False\"}, {\"date\": \"2018-12-23T00:00:00\", \"dataisbeautiful\": 0, \"isPartial\": \"False\"}, {\"date\": \"2018-12-30T00:00:00\", \"dataisbeautiful\": 0, \"isPartial\": \"False\"}, {\"date\": \"2019-01-06T00:00:00\", \"dataisbeautiful\": 9, \"isPartial\": \"False\"}, {\"date\": \"2019-01-13T00:00:00\", \"dataisbeautiful\": 0, \"isPartial\": \"False\"}, {\"date\": \"2019-01-20T00:00:00\", \"dataisbeautiful\": 13, \"isPartial\": \"False\"}, {\"date\": \"2019-01-27T00:00:00\", \"dataisbeautiful\": 17, \"isPartial\": \"False\"}, {\"date\": \"2019-02-03T00:00:00\", \"dataisbeautiful\": 17, \"isPartial\": \"False\"}, {\"date\": \"2019-02-10T00:00:00\", \"dataisbeautiful\": 13, \"isPartial\": \"False\"}, {\"date\": \"2019-02-17T00:00:00\", \"dataisbeautiful\": 9, \"isPartial\": \"False\"}, {\"date\": \"2019-02-24T00:00:00\", \"dataisbeautiful\": 0, \"isPartial\": \"False\"}, {\"date\": \"2019-03-03T00:00:00\", \"dataisbeautiful\": 9, \"isPartial\": \"False\"}, {\"date\": \"2019-03-10T00:00:00\", \"dataisbeautiful\": 9, \"isPartial\": \"False\"}, {\"date\": \"2019-03-17T00:00:00\", \"dataisbeautiful\": 9, \"isPartial\": \"False\"}, {\"date\": \"2019-03-24T00:00:00\", \"dataisbeautiful\": 27, \"isPartial\": \"False\"}, {\"date\": \"2019-03-31T00:00:00\", \"dataisbeautiful\": 22, \"isPartial\": \"False\"}, {\"date\": \"2019-04-07T00:00:00\", \"dataisbeautiful\": 9, \"isPartial\": \"False\"}, {\"date\": \"2019-04-14T00:00:00\", \"dataisbeautiful\": 18, \"isPartial\": \"False\"}, {\"date\": \"2019-04-21T00:00:00\", \"dataisbeautiful\": 14, \"isPartial\": \"False\"}, {\"date\": \"2019-04-28T00:00:00\", \"dataisbeautiful\": 9, \"isPartial\": \"False\"}, {\"date\": \"2019-05-05T00:00:00\", \"dataisbeautiful\": 13, \"isPartial\": \"False\"}, {\"date\": \"2019-05-12T00:00:00\", \"dataisbeautiful\": 14, \"isPartial\": \"False\"}, {\"date\": \"2019-05-19T00:00:00\", \"dataisbeautiful\": 9, \"isPartial\": \"False\"}, {\"date\": \"2019-05-26T00:00:00\", \"dataisbeautiful\": 0, \"isPartial\": \"False\"}, {\"date\": \"2019-06-02T00:00:00\", \"dataisbeautiful\": 14, \"isPartial\": \"False\"}, {\"date\": \"2019-06-09T00:00:00\", \"dataisbeautiful\": 18, \"isPartial\": \"False\"}, {\"date\": \"2019-06-16T00:00:00\", \"dataisbeautiful\": 0, \"isPartial\": \"False\"}, {\"date\": \"2019-06-23T00:00:00\", \"dataisbeautiful\": 0, \"isPartial\": \"False\"}, {\"date\": \"2019-06-30T00:00:00\", \"dataisbeautiful\": 10, \"isPartial\": \"False\"}, {\"date\": \"2019-07-07T00:00:00\", \"dataisbeautiful\": 18, \"isPartial\": \"False\"}, {\"date\": \"2019-07-14T00:00:00\", \"dataisbeautiful\": 0, \"isPartial\": \"False\"}, {\"date\": \"2019-07-21T00:00:00\", \"dataisbeautiful\": 9, \"isPartial\": \"False\"}, {\"date\": \"2019-07-28T00:00:00\", \"dataisbeautiful\": 28, \"isPartial\": \"False\"}, {\"date\": \"2019-08-04T00:00:00\", \"dataisbeautiful\": 9, \"isPartial\": \"False\"}, {\"date\": \"2019-08-11T00:00:00\", \"dataisbeautiful\": 0, \"isPartial\": \"False\"}, {\"date\": \"2019-08-18T00:00:00\", \"dataisbeautiful\": 27, \"isPartial\": \"False\"}, {\"date\": \"2019-08-25T00:00:00\", \"dataisbeautiful\": 9, \"isPartial\": \"False\"}, {\"date\": \"2019-09-01T00:00:00\", \"dataisbeautiful\": 8, \"isPartial\": \"False\"}, {\"date\": \"2019-09-08T00:00:00\", \"dataisbeautiful\": 17, \"isPartial\": \"False\"}, {\"date\": \"2019-09-15T00:00:00\", \"dataisbeautiful\": 8, \"isPartial\": \"False\"}, {\"date\": \"2019-09-22T00:00:00\", \"dataisbeautiful\": 17, \"isPartial\": \"False\"}, {\"date\": \"2019-09-29T00:00:00\", \"dataisbeautiful\": 8, \"isPartial\": \"False\"}, {\"date\": \"2019-10-06T00:00:00\", \"dataisbeautiful\": 13, \"isPartial\": \"False\"}, {\"date\": \"2019-10-13T00:00:00\", \"dataisbeautiful\": 0, \"isPartial\": \"False\"}, {\"date\": \"2019-10-20T00:00:00\", \"dataisbeautiful\": 12, \"isPartial\": \"False\"}, {\"date\": \"2019-10-27T00:00:00\", \"dataisbeautiful\": 25, \"isPartial\": \"False\"}, {\"date\": \"2019-11-03T00:00:00\", \"dataisbeautiful\": 8, \"isPartial\": \"False\"}, {\"date\": \"2019-11-10T00:00:00\", \"dataisbeautiful\": 0, \"isPartial\": \"False\"}, {\"date\": \"2019-11-17T00:00:00\", \"dataisbeautiful\": 0, \"isPartial\": \"False\"}, {\"date\": \"2019-11-24T00:00:00\", \"dataisbeautiful\": 13, \"isPartial\": \"False\"}, {\"date\": \"2019-12-01T00:00:00\", \"dataisbeautiful\": 0, \"isPartial\": \"False\"}, {\"date\": \"2019-12-08T00:00:00\", \"dataisbeautiful\": 8, \"isPartial\": \"False\"}, {\"date\": \"2019-12-15T00:00:00\", \"dataisbeautiful\": 17, \"isPartial\": \"False\"}, {\"date\": \"2019-12-22T00:00:00\", \"dataisbeautiful\": 19, \"isPartial\": \"False\"}, {\"date\": \"2019-12-29T00:00:00\", \"dataisbeautiful\": 0, \"isPartial\": \"False\"}, {\"date\": \"2020-01-05T00:00:00\", \"dataisbeautiful\": 24, \"isPartial\": \"False\"}, {\"date\": \"2020-01-12T00:00:00\", \"dataisbeautiful\": 8, \"isPartial\": \"False\"}, {\"date\": \"2020-01-19T00:00:00\", \"dataisbeautiful\": 8, \"isPartial\": \"False\"}, {\"date\": \"2020-01-26T00:00:00\", \"dataisbeautiful\": 20, \"isPartial\": \"False\"}, {\"date\": \"2020-02-02T00:00:00\", \"dataisbeautiful\": 8, \"isPartial\": \"False\"}, {\"date\": \"2020-02-09T00:00:00\", \"dataisbeautiful\": 16, \"isPartial\": \"False\"}, {\"date\": \"2020-02-16T00:00:00\", \"dataisbeautiful\": 12, \"isPartial\": \"False\"}, {\"date\": \"2020-02-23T00:00:00\", \"dataisbeautiful\": 15, \"isPartial\": \"False\"}, {\"date\": \"2020-03-01T00:00:00\", \"dataisbeautiful\": 8, \"isPartial\": \"False\"}, {\"date\": \"2020-03-08T00:00:00\", \"dataisbeautiful\": 34, \"isPartial\": \"False\"}, {\"date\": \"2020-03-15T00:00:00\", \"dataisbeautiful\": 100, \"isPartial\": \"False\"}, {\"date\": \"2020-03-22T00:00:00\", \"dataisbeautiful\": 37, \"isPartial\": \"False\"}, {\"date\": \"2020-03-29T00:00:00\", \"dataisbeautiful\": 39, \"isPartial\": \"False\"}, {\"date\": \"2020-04-05T00:00:00\", \"dataisbeautiful\": 39, \"isPartial\": \"False\"}, {\"date\": \"2020-04-12T00:00:00\", \"dataisbeautiful\": 21, \"isPartial\": \"False\"}, {\"date\": \"2020-04-19T00:00:00\", \"dataisbeautiful\": 34, \"isPartial\": \"False\"}, {\"date\": \"2020-04-26T00:00:00\", \"dataisbeautiful\": 31, \"isPartial\": \"False\"}, {\"date\": \"2020-05-03T00:00:00\", \"dataisbeautiful\": 24, \"isPartial\": \"True\"}]}}, {\"mode\": \"vega-lite\"});\n",
       "</script>"
      ],
      "text/plain": [
       "alt.Chart(...)"
      ]
     },
     "execution_count": 6,
     "metadata": {},
     "output_type": "execute_result"
    }
   ],
   "source": [
    "r_o_t_plot = alt.Chart(r_o_t).encode(x='date', y=kw_list).mark_area(line=True).interactive().properties(width=700)\n",
    "r_o_t_plot"
   ]
  },
  {
   "cell_type": "code",
   "execution_count": 8,
   "metadata": {},
   "outputs": [
    {
     "data": {
      "text/html": [
       "\n",
       "<div id=\"altair-viz-7a873f5c7cb5446399e5835bf7ad7c74\"></div>\n",
       "<script type=\"text/javascript\">\n",
       "  (function(spec, embedOpt){\n",
       "    let outputDiv = document.currentScript.previousElementSibling;\n",
       "    if (outputDiv.id !== \"altair-viz-7a873f5c7cb5446399e5835bf7ad7c74\") {\n",
       "      outputDiv = document.getElementById(\"altair-viz-7a873f5c7cb5446399e5835bf7ad7c74\");\n",
       "    }\n",
       "    const paths = {\n",
       "      \"vega\": \"https://cdn.jsdelivr.net/npm//vega@5?noext\",\n",
       "      \"vega-lib\": \"https://cdn.jsdelivr.net/npm//vega-lib?noext\",\n",
       "      \"vega-lite\": \"https://cdn.jsdelivr.net/npm//vega-lite@4.8.1?noext\",\n",
       "      \"vega-embed\": \"https://cdn.jsdelivr.net/npm//vega-embed@6?noext\",\n",
       "    };\n",
       "\n",
       "    function loadScript(lib) {\n",
       "      return new Promise(function(resolve, reject) {\n",
       "        var s = document.createElement('script');\n",
       "        s.src = paths[lib];\n",
       "        s.async = true;\n",
       "        s.onload = () => resolve(paths[lib]);\n",
       "        s.onerror = () => reject(`Error loading script: ${paths[lib]}`);\n",
       "        document.getElementsByTagName(\"head\")[0].appendChild(s);\n",
       "      });\n",
       "    }\n",
       "\n",
       "    function showError(err) {\n",
       "      outputDiv.innerHTML = `<div class=\"error\" style=\"color:red;\">${err}</div>`;\n",
       "      throw err;\n",
       "    }\n",
       "\n",
       "    function displayChart(vegaEmbed) {\n",
       "      vegaEmbed(outputDiv, spec, embedOpt)\n",
       "        .catch(err => showError(`Javascript Error: ${err.message}<br>This usually means there's a typo in your chart specification. See the javascript console for the full traceback.`));\n",
       "    }\n",
       "\n",
       "    if(typeof define === \"function\" && define.amd) {\n",
       "      requirejs.config({paths});\n",
       "      require([\"vega-embed\"], displayChart, err => showError(`Error loading script: ${err.message}`));\n",
       "    } else if (typeof vegaEmbed === \"function\") {\n",
       "      displayChart(vegaEmbed);\n",
       "    } else {\n",
       "      loadScript(\"vega\")\n",
       "        .then(() => loadScript(\"vega-lite\"))\n",
       "        .then(() => loadScript(\"vega-embed\"))\n",
       "        .catch(showError)\n",
       "        .then(() => displayChart(vegaEmbed));\n",
       "    }\n",
       "  })({\"config\": {\"view\": {\"continuousWidth\": 400, \"continuousHeight\": 300}}, \"data\": {\"name\": \"data-97e4bb7a5b6561e95792a2b0890f3c79\"}, \"mark\": {\"type\": \"line\", \"width\": 0.5}, \"encoding\": {\"x\": {\"type\": \"temporal\", \"field\": \"date\"}, \"y\": {\"type\": \"quantitative\", \"field\": \"donald trump\"}}, \"selection\": {\"selector001\": {\"type\": \"interval\", \"bind\": \"scales\", \"encodings\": [\"x\", \"y\"]}}, \"$schema\": \"https://vega.github.io/schema/vega-lite/v4.8.1.json\", \"datasets\": {\"data-97e4bb7a5b6561e95792a2b0890f3c79\": [{\"date\": \"2015-05-17T00:00:00\", \"donald trump\": 0, \"isPartial\": \"False\"}, {\"date\": \"2015-05-24T00:00:00\", \"donald trump\": 0, \"isPartial\": \"False\"}, {\"date\": \"2015-05-31T00:00:00\", \"donald trump\": 0, \"isPartial\": \"False\"}, {\"date\": \"2015-06-07T00:00:00\", \"donald trump\": 0, \"isPartial\": \"False\"}, {\"date\": \"2015-06-14T00:00:00\", \"donald trump\": 10, \"isPartial\": \"False\"}, {\"date\": \"2015-06-21T00:00:00\", \"donald trump\": 5, \"isPartial\": \"False\"}, {\"date\": \"2015-06-28T00:00:00\", \"donald trump\": 11, \"isPartial\": \"False\"}, {\"date\": \"2015-07-05T00:00:00\", \"donald trump\": 7, \"isPartial\": \"False\"}, {\"date\": \"2015-07-12T00:00:00\", \"donald trump\": 10, \"isPartial\": \"False\"}, {\"date\": \"2015-07-19T00:00:00\", \"donald trump\": 11, \"isPartial\": \"False\"}, {\"date\": \"2015-07-26T00:00:00\", \"donald trump\": 7, \"isPartial\": \"False\"}, {\"date\": \"2015-08-02T00:00:00\", \"donald trump\": 12, \"isPartial\": \"False\"}, {\"date\": \"2015-08-09T00:00:00\", \"donald trump\": 11, \"isPartial\": \"False\"}, {\"date\": \"2015-08-16T00:00:00\", \"donald trump\": 11, \"isPartial\": \"False\"}, {\"date\": \"2015-08-23T00:00:00\", \"donald trump\": 14, \"isPartial\": \"False\"}, {\"date\": \"2015-08-30T00:00:00\", \"donald trump\": 9, \"isPartial\": \"False\"}, {\"date\": \"2015-09-06T00:00:00\", \"donald trump\": 8, \"isPartial\": \"False\"}, {\"date\": \"2015-09-13T00:00:00\", \"donald trump\": 12, \"isPartial\": \"False\"}, {\"date\": \"2015-09-20T00:00:00\", \"donald trump\": 8, \"isPartial\": \"False\"}, {\"date\": \"2015-09-27T00:00:00\", \"donald trump\": 7, \"isPartial\": \"False\"}, {\"date\": \"2015-10-04T00:00:00\", \"donald trump\": 5, \"isPartial\": \"False\"}, {\"date\": \"2015-10-11T00:00:00\", \"donald trump\": 6, \"isPartial\": \"False\"}, {\"date\": \"2015-10-18T00:00:00\", \"donald trump\": 6, \"isPartial\": \"False\"}, {\"date\": \"2015-10-25T00:00:00\", \"donald trump\": 6, \"isPartial\": \"False\"}, {\"date\": \"2015-11-01T00:00:00\", \"donald trump\": 5, \"isPartial\": \"False\"}, {\"date\": \"2015-11-08T00:00:00\", \"donald trump\": 8, \"isPartial\": \"False\"}, {\"date\": \"2015-11-15T00:00:00\", \"donald trump\": 7, \"isPartial\": \"False\"}, {\"date\": \"2015-11-22T00:00:00\", \"donald trump\": 6, \"isPartial\": \"False\"}, {\"date\": \"2015-11-29T00:00:00\", \"donald trump\": 6, \"isPartial\": \"False\"}, {\"date\": \"2015-12-06T00:00:00\", \"donald trump\": 16, \"isPartial\": \"False\"}, {\"date\": \"2015-12-13T00:00:00\", \"donald trump\": 10, \"isPartial\": \"False\"}, {\"date\": \"2015-12-20T00:00:00\", \"donald trump\": 10, \"isPartial\": \"False\"}, {\"date\": \"2015-12-27T00:00:00\", \"donald trump\": 6, \"isPartial\": \"False\"}, {\"date\": \"2016-01-03T00:00:00\", \"donald trump\": 7, \"isPartial\": \"False\"}, {\"date\": \"2016-01-10T00:00:00\", \"donald trump\": 8, \"isPartial\": \"False\"}, {\"date\": \"2016-01-17T00:00:00\", \"donald trump\": 9, \"isPartial\": \"False\"}, {\"date\": \"2016-01-24T00:00:00\", \"donald trump\": 13, \"isPartial\": \"False\"}, {\"date\": \"2016-01-31T00:00:00\", \"donald trump\": 13, \"isPartial\": \"False\"}, {\"date\": \"2016-02-07T00:00:00\", \"donald trump\": 12, \"isPartial\": \"False\"}, {\"date\": \"2016-02-14T00:00:00\", \"donald trump\": 13, \"isPartial\": \"False\"}, {\"date\": \"2016-02-21T00:00:00\", \"donald trump\": 21, \"isPartial\": \"False\"}, {\"date\": \"2016-02-28T00:00:00\", \"donald trump\": 32, \"isPartial\": \"False\"}, {\"date\": \"2016-03-06T00:00:00\", \"donald trump\": 22, \"isPartial\": \"False\"}, {\"date\": \"2016-03-13T00:00:00\", \"donald trump\": 26, \"isPartial\": \"False\"}, {\"date\": \"2016-03-20T00:00:00\", \"donald trump\": 17, \"isPartial\": \"False\"}, {\"date\": \"2016-03-27T00:00:00\", \"donald trump\": 14, \"isPartial\": \"False\"}, {\"date\": \"2016-04-03T00:00:00\", \"donald trump\": 12, \"isPartial\": \"False\"}, {\"date\": \"2016-04-10T00:00:00\", \"donald trump\": 10, \"isPartial\": \"False\"}, {\"date\": \"2016-04-17T00:00:00\", \"donald trump\": 11, \"isPartial\": \"False\"}, {\"date\": \"2016-04-24T00:00:00\", \"donald trump\": 12, \"isPartial\": \"False\"}, {\"date\": \"2016-05-01T00:00:00\", \"donald trump\": 17, \"isPartial\": \"False\"}, {\"date\": \"2016-05-08T00:00:00\", \"donald trump\": 12, \"isPartial\": \"False\"}, {\"date\": \"2016-05-15T00:00:00\", \"donald trump\": 11, \"isPartial\": \"False\"}, {\"date\": \"2016-05-22T00:00:00\", \"donald trump\": 10, \"isPartial\": \"False\"}, {\"date\": \"2016-05-29T00:00:00\", \"donald trump\": 9, \"isPartial\": \"False\"}, {\"date\": \"2016-06-05T00:00:00\", \"donald trump\": 12, \"isPartial\": \"False\"}, {\"date\": \"2016-06-12T00:00:00\", \"donald trump\": 14, \"isPartial\": \"False\"}, {\"date\": \"2016-06-19T00:00:00\", \"donald trump\": 10, \"isPartial\": \"False\"}, {\"date\": \"2016-06-26T00:00:00\", \"donald trump\": 9, \"isPartial\": \"False\"}, {\"date\": \"2016-07-03T00:00:00\", \"donald trump\": 9, \"isPartial\": \"False\"}, {\"date\": \"2016-07-10T00:00:00\", \"donald trump\": 10, \"isPartial\": \"False\"}, {\"date\": \"2016-07-17T00:00:00\", \"donald trump\": 30, \"isPartial\": \"False\"}, {\"date\": \"2016-07-24T00:00:00\", \"donald trump\": 22, \"isPartial\": \"False\"}, {\"date\": \"2016-07-31T00:00:00\", \"donald trump\": 18, \"isPartial\": \"False\"}, {\"date\": \"2016-08-07T00:00:00\", \"donald trump\": 13, \"isPartial\": \"False\"}, {\"date\": \"2016-08-14T00:00:00\", \"donald trump\": 12, \"isPartial\": \"False\"}, {\"date\": \"2016-08-21T00:00:00\", \"donald trump\": 11, \"isPartial\": \"False\"}, {\"date\": \"2016-08-28T00:00:00\", \"donald trump\": 11, \"isPartial\": \"False\"}, {\"date\": \"2016-09-04T00:00:00\", \"donald trump\": 10, \"isPartial\": \"False\"}, {\"date\": \"2016-09-11T00:00:00\", \"donald trump\": 12, \"isPartial\": \"False\"}, {\"date\": \"2016-09-18T00:00:00\", \"donald trump\": 11, \"isPartial\": \"False\"}, {\"date\": \"2016-09-25T00:00:00\", \"donald trump\": 22, \"isPartial\": \"False\"}, {\"date\": \"2016-10-02T00:00:00\", \"donald trump\": 24, \"isPartial\": \"False\"}, {\"date\": \"2016-10-09T00:00:00\", \"donald trump\": 39, \"isPartial\": \"False\"}, {\"date\": \"2016-10-16T00:00:00\", \"donald trump\": 28, \"isPartial\": \"False\"}, {\"date\": \"2016-10-23T00:00:00\", \"donald trump\": 20, \"isPartial\": \"False\"}, {\"date\": \"2016-10-30T00:00:00\", \"donald trump\": 20, \"isPartial\": \"False\"}, {\"date\": \"2016-11-06T00:00:00\", \"donald trump\": 100, \"isPartial\": \"False\"}, {\"date\": \"2016-11-13T00:00:00\", \"donald trump\": 29, \"isPartial\": \"False\"}, {\"date\": \"2016-11-20T00:00:00\", \"donald trump\": 16, \"isPartial\": \"False\"}, {\"date\": \"2016-11-27T00:00:00\", \"donald trump\": 13, \"isPartial\": \"False\"}, {\"date\": \"2016-12-04T00:00:00\", \"donald trump\": 11, \"isPartial\": \"False\"}, {\"date\": \"2016-12-11T00:00:00\", \"donald trump\": 11, \"isPartial\": \"False\"}, {\"date\": \"2016-12-18T00:00:00\", \"donald trump\": 10, \"isPartial\": \"False\"}, {\"date\": \"2016-12-25T00:00:00\", \"donald trump\": 8, \"isPartial\": \"False\"}, {\"date\": \"2017-01-01T00:00:00\", \"donald trump\": 10, \"isPartial\": \"False\"}, {\"date\": \"2017-01-08T00:00:00\", \"donald trump\": 17, \"isPartial\": \"False\"}, {\"date\": \"2017-01-15T00:00:00\", \"donald trump\": 37, \"isPartial\": \"False\"}, {\"date\": \"2017-01-22T00:00:00\", \"donald trump\": 30, \"isPartial\": \"False\"}, {\"date\": \"2017-01-29T00:00:00\", \"donald trump\": 24, \"isPartial\": \"False\"}, {\"date\": \"2017-02-05T00:00:00\", \"donald trump\": 19, \"isPartial\": \"False\"}, {\"date\": \"2017-02-12T00:00:00\", \"donald trump\": 16, \"isPartial\": \"False\"}, {\"date\": \"2017-02-19T00:00:00\", \"donald trump\": 12, \"isPartial\": \"False\"}, {\"date\": \"2017-02-26T00:00:00\", \"donald trump\": 12, \"isPartial\": \"False\"}, {\"date\": \"2017-03-05T00:00:00\", \"donald trump\": 10, \"isPartial\": \"False\"}, {\"date\": \"2017-03-12T00:00:00\", \"donald trump\": 9, \"isPartial\": \"False\"}, {\"date\": \"2017-03-19T00:00:00\", \"donald trump\": 10, \"isPartial\": \"False\"}, {\"date\": \"2017-03-26T00:00:00\", \"donald trump\": 8, \"isPartial\": \"False\"}, {\"date\": \"2017-04-02T00:00:00\", \"donald trump\": 9, \"isPartial\": \"False\"}, {\"date\": \"2017-04-09T00:00:00\", \"donald trump\": 7, \"isPartial\": \"False\"}, {\"date\": \"2017-04-16T00:00:00\", \"donald trump\": 7, \"isPartial\": \"False\"}, {\"date\": \"2017-04-23T00:00:00\", \"donald trump\": 6, \"isPartial\": \"False\"}, {\"date\": \"2017-04-30T00:00:00\", \"donald trump\": 7, \"isPartial\": \"False\"}, {\"date\": \"2017-05-07T00:00:00\", \"donald trump\": 8, \"isPartial\": \"False\"}, {\"date\": \"2017-05-14T00:00:00\", \"donald trump\": 11, \"isPartial\": \"False\"}, {\"date\": \"2017-05-21T00:00:00\", \"donald trump\": 9, \"isPartial\": \"False\"}, {\"date\": \"2017-05-28T00:00:00\", \"donald trump\": 11, \"isPartial\": \"False\"}, {\"date\": \"2017-06-04T00:00:00\", \"donald trump\": 10, \"isPartial\": \"False\"}, {\"date\": \"2017-06-11T00:00:00\", \"donald trump\": 9, \"isPartial\": \"False\"}, {\"date\": \"2017-06-18T00:00:00\", \"donald trump\": 6, \"isPartial\": \"False\"}, {\"date\": \"2017-06-25T00:00:00\", \"donald trump\": 7, \"isPartial\": \"False\"}, {\"date\": \"2017-07-02T00:00:00\", \"donald trump\": 8, \"isPartial\": \"False\"}, {\"date\": \"2017-07-09T00:00:00\", \"donald trump\": 10, \"isPartial\": \"False\"}, {\"date\": \"2017-07-16T00:00:00\", \"donald trump\": 7, \"isPartial\": \"False\"}, {\"date\": \"2017-07-23T00:00:00\", \"donald trump\": 9, \"isPartial\": \"False\"}, {\"date\": \"2017-07-30T00:00:00\", \"donald trump\": 7, \"isPartial\": \"False\"}, {\"date\": \"2017-08-06T00:00:00\", \"donald trump\": 7, \"isPartial\": \"False\"}, {\"date\": \"2017-08-13T00:00:00\", \"donald trump\": 12, \"isPartial\": \"False\"}, {\"date\": \"2017-08-20T00:00:00\", \"donald trump\": 8, \"isPartial\": \"False\"}, {\"date\": \"2017-08-27T00:00:00\", \"donald trump\": 7, \"isPartial\": \"False\"}, {\"date\": \"2017-09-03T00:00:00\", \"donald trump\": 6, \"isPartial\": \"False\"}, {\"date\": \"2017-09-10T00:00:00\", \"donald trump\": 5, \"isPartial\": \"False\"}, {\"date\": \"2017-09-17T00:00:00\", \"donald trump\": 7, \"isPartial\": \"False\"}, {\"date\": \"2017-09-24T00:00:00\", \"donald trump\": 11, \"isPartial\": \"False\"}, {\"date\": \"2017-10-01T00:00:00\", \"donald trump\": 8, \"isPartial\": \"False\"}, {\"date\": \"2017-10-08T00:00:00\", \"donald trump\": 9, \"isPartial\": \"False\"}, {\"date\": \"2017-10-15T00:00:00\", \"donald trump\": 7, \"isPartial\": \"False\"}, {\"date\": \"2017-10-22T00:00:00\", \"donald trump\": 7, \"isPartial\": \"False\"}, {\"date\": \"2017-10-29T00:00:00\", \"donald trump\": 8, \"isPartial\": \"False\"}, {\"date\": \"2017-11-05T00:00:00\", \"donald trump\": 6, \"isPartial\": \"False\"}, {\"date\": \"2017-11-12T00:00:00\", \"donald trump\": 7, \"isPartial\": \"False\"}, {\"date\": \"2017-11-19T00:00:00\", \"donald trump\": 6, \"isPartial\": \"False\"}, {\"date\": \"2017-11-26T00:00:00\", \"donald trump\": 8, \"isPartial\": \"False\"}, {\"date\": \"2017-12-03T00:00:00\", \"donald trump\": 8, \"isPartial\": \"False\"}, {\"date\": \"2017-12-10T00:00:00\", \"donald trump\": 8, \"isPartial\": \"False\"}, {\"date\": \"2017-12-17T00:00:00\", \"donald trump\": 6, \"isPartial\": \"False\"}, {\"date\": \"2017-12-24T00:00:00\", \"donald trump\": 6, \"isPartial\": \"False\"}, {\"date\": \"2017-12-31T00:00:00\", \"donald trump\": 8, \"isPartial\": \"False\"}, {\"date\": \"2018-01-07T00:00:00\", \"donald trump\": 10, \"isPartial\": \"False\"}, {\"date\": \"2018-01-14T00:00:00\", \"donald trump\": 9, \"isPartial\": \"False\"}, {\"date\": \"2018-01-21T00:00:00\", \"donald trump\": 7, \"isPartial\": \"False\"}, {\"date\": \"2018-01-28T00:00:00\", \"donald trump\": 8, \"isPartial\": \"False\"}, {\"date\": \"2018-02-04T00:00:00\", \"donald trump\": 7, \"isPartial\": \"False\"}, {\"date\": \"2018-02-11T00:00:00\", \"donald trump\": 7, \"isPartial\": \"False\"}, {\"date\": \"2018-02-18T00:00:00\", \"donald trump\": 7, \"isPartial\": \"False\"}, {\"date\": \"2018-02-25T00:00:00\", \"donald trump\": 6, \"isPartial\": \"False\"}, {\"date\": \"2018-03-04T00:00:00\", \"donald trump\": 6, \"isPartial\": \"False\"}, {\"date\": \"2018-03-11T00:00:00\", \"donald trump\": 8, \"isPartial\": \"False\"}, {\"date\": \"2018-03-18T00:00:00\", \"donald trump\": 9, \"isPartial\": \"False\"}, {\"date\": \"2018-03-25T00:00:00\", \"donald trump\": 7, \"isPartial\": \"False\"}, {\"date\": \"2018-04-01T00:00:00\", \"donald trump\": 6, \"isPartial\": \"False\"}, {\"date\": \"2018-04-08T00:00:00\", \"donald trump\": 7, \"isPartial\": \"False\"}, {\"date\": \"2018-04-15T00:00:00\", \"donald trump\": 6, \"isPartial\": \"False\"}, {\"date\": \"2018-04-22T00:00:00\", \"donald trump\": 6, \"isPartial\": \"False\"}, {\"date\": \"2018-04-29T00:00:00\", \"donald trump\": 6, \"isPartial\": \"False\"}, {\"date\": \"2018-05-06T00:00:00\", \"donald trump\": 6, \"isPartial\": \"False\"}, {\"date\": \"2018-05-13T00:00:00\", \"donald trump\": 5, \"isPartial\": \"False\"}, {\"date\": \"2018-05-20T00:00:00\", \"donald trump\": 5, \"isPartial\": \"False\"}, {\"date\": \"2018-05-27T00:00:00\", \"donald trump\": 6, \"isPartial\": \"False\"}, {\"date\": \"2018-06-03T00:00:00\", \"donald trump\": 6, \"isPartial\": \"False\"}, {\"date\": \"2018-06-10T00:00:00\", \"donald trump\": 8, \"isPartial\": \"False\"}, {\"date\": \"2018-06-17T00:00:00\", \"donald trump\": 7, \"isPartial\": \"False\"}, {\"date\": \"2018-06-24T00:00:00\", \"donald trump\": 6, \"isPartial\": \"False\"}, {\"date\": \"2018-07-01T00:00:00\", \"donald trump\": 6, \"isPartial\": \"False\"}, {\"date\": \"2018-07-08T00:00:00\", \"donald trump\": 6, \"isPartial\": \"False\"}, {\"date\": \"2018-07-15T00:00:00\", \"donald trump\": 8, \"isPartial\": \"False\"}, {\"date\": \"2018-07-22T00:00:00\", \"donald trump\": 7, \"isPartial\": \"False\"}, {\"date\": \"2018-07-29T00:00:00\", \"donald trump\": 6, \"isPartial\": \"False\"}, {\"date\": \"2018-08-05T00:00:00\", \"donald trump\": 6, \"isPartial\": \"False\"}, {\"date\": \"2018-08-12T00:00:00\", \"donald trump\": 6, \"isPartial\": \"False\"}, {\"date\": \"2018-08-19T00:00:00\", \"donald trump\": 8, \"isPartial\": \"False\"}, {\"date\": \"2018-08-26T00:00:00\", \"donald trump\": 8, \"isPartial\": \"False\"}, {\"date\": \"2018-09-02T00:00:00\", \"donald trump\": 7, \"isPartial\": \"False\"}, {\"date\": \"2018-09-09T00:00:00\", \"donald trump\": 6, \"isPartial\": \"False\"}, {\"date\": \"2018-09-16T00:00:00\", \"donald trump\": 6, \"isPartial\": \"False\"}, {\"date\": \"2018-09-23T00:00:00\", \"donald trump\": 6, \"isPartial\": \"False\"}, {\"date\": \"2018-09-30T00:00:00\", \"donald trump\": 7, \"isPartial\": \"False\"}, {\"date\": \"2018-10-07T00:00:00\", \"donald trump\": 5, \"isPartial\": \"False\"}, {\"date\": \"2018-10-14T00:00:00\", \"donald trump\": 6, \"isPartial\": \"False\"}, {\"date\": \"2018-10-21T00:00:00\", \"donald trump\": 6, \"isPartial\": \"False\"}, {\"date\": \"2018-10-28T00:00:00\", \"donald trump\": 7, \"isPartial\": \"False\"}, {\"date\": \"2018-11-04T00:00:00\", \"donald trump\": 8, \"isPartial\": \"False\"}, {\"date\": \"2018-11-11T00:00:00\", \"donald trump\": 6, \"isPartial\": \"False\"}, {\"date\": \"2018-11-18T00:00:00\", \"donald trump\": 5, \"isPartial\": \"False\"}, {\"date\": \"2018-11-25T00:00:00\", \"donald trump\": 6, \"isPartial\": \"False\"}, {\"date\": \"2018-12-02T00:00:00\", \"donald trump\": 7, \"isPartial\": \"False\"}, {\"date\": \"2018-12-09T00:00:00\", \"donald trump\": 7, \"isPartial\": \"False\"}, {\"date\": \"2018-12-16T00:00:00\", \"donald trump\": 7, \"isPartial\": \"False\"}, {\"date\": \"2018-12-23T00:00:00\", \"donald trump\": 7, \"isPartial\": \"False\"}, {\"date\": \"2018-12-30T00:00:00\", \"donald trump\": 7, \"isPartial\": \"False\"}, {\"date\": \"2019-01-06T00:00:00\", \"donald trump\": 9, \"isPartial\": \"False\"}, {\"date\": \"2019-01-13T00:00:00\", \"donald trump\": 9, \"isPartial\": \"False\"}, {\"date\": \"2019-01-20T00:00:00\", \"donald trump\": 8, \"isPartial\": \"False\"}, {\"date\": \"2019-01-27T00:00:00\", \"donald trump\": 6, \"isPartial\": \"False\"}, {\"date\": \"2019-02-03T00:00:00\", \"donald trump\": 6, \"isPartial\": \"False\"}, {\"date\": \"2019-02-10T00:00:00\", \"donald trump\": 6, \"isPartial\": \"False\"}, {\"date\": \"2019-02-17T00:00:00\", \"donald trump\": 6, \"isPartial\": \"False\"}, {\"date\": \"2019-02-24T00:00:00\", \"donald trump\": 7, \"isPartial\": \"False\"}, {\"date\": \"2019-03-03T00:00:00\", \"donald trump\": 5, \"isPartial\": \"False\"}, {\"date\": \"2019-03-10T00:00:00\", \"donald trump\": 5, \"isPartial\": \"False\"}, {\"date\": \"2019-03-17T00:00:00\", \"donald trump\": 5, \"isPartial\": \"False\"}, {\"date\": \"2019-03-24T00:00:00\", \"donald trump\": 5, \"isPartial\": \"False\"}, {\"date\": \"2019-03-31T00:00:00\", \"donald trump\": 5, \"isPartial\": \"False\"}, {\"date\": \"2019-04-07T00:00:00\", \"donald trump\": 4, \"isPartial\": \"False\"}, {\"date\": \"2019-04-14T00:00:00\", \"donald trump\": 5, \"isPartial\": \"False\"}, {\"date\": \"2019-04-21T00:00:00\", \"donald trump\": 5, \"isPartial\": \"False\"}, {\"date\": \"2019-04-28T00:00:00\", \"donald trump\": 4, \"isPartial\": \"False\"}, {\"date\": \"2019-05-05T00:00:00\", \"donald trump\": 5, \"isPartial\": \"False\"}, {\"date\": \"2019-05-12T00:00:00\", \"donald trump\": 4, \"isPartial\": \"False\"}, {\"date\": \"2019-05-19T00:00:00\", \"donald trump\": 5, \"isPartial\": \"False\"}, {\"date\": \"2019-05-26T00:00:00\", \"donald trump\": 5, \"isPartial\": \"False\"}, {\"date\": \"2019-06-02T00:00:00\", \"donald trump\": 5, \"isPartial\": \"False\"}, {\"date\": \"2019-06-09T00:00:00\", \"donald trump\": 5, \"isPartial\": \"False\"}, {\"date\": \"2019-06-16T00:00:00\", \"donald trump\": 5, \"isPartial\": \"False\"}, {\"date\": \"2019-06-23T00:00:00\", \"donald trump\": 5, \"isPartial\": \"False\"}, {\"date\": \"2019-06-30T00:00:00\", \"donald trump\": 5, \"isPartial\": \"False\"}, {\"date\": \"2019-07-07T00:00:00\", \"donald trump\": 5, \"isPartial\": \"False\"}, {\"date\": \"2019-07-14T00:00:00\", \"donald trump\": 6, \"isPartial\": \"False\"}, {\"date\": \"2019-07-21T00:00:00\", \"donald trump\": 5, \"isPartial\": \"False\"}, {\"date\": \"2019-07-28T00:00:00\", \"donald trump\": 5, \"isPartial\": \"False\"}, {\"date\": \"2019-08-04T00:00:00\", \"donald trump\": 6, \"isPartial\": \"False\"}, {\"date\": \"2019-08-11T00:00:00\", \"donald trump\": 5, \"isPartial\": \"False\"}, {\"date\": \"2019-08-18T00:00:00\", \"donald trump\": 5, \"isPartial\": \"False\"}, {\"date\": \"2019-08-25T00:00:00\", \"donald trump\": 5, \"isPartial\": \"False\"}, {\"date\": \"2019-09-01T00:00:00\", \"donald trump\": 4, \"isPartial\": \"False\"}, {\"date\": \"2019-09-08T00:00:00\", \"donald trump\": 5, \"isPartial\": \"False\"}, {\"date\": \"2019-09-15T00:00:00\", \"donald trump\": 4, \"isPartial\": \"False\"}, {\"date\": \"2019-09-22T00:00:00\", \"donald trump\": 8, \"isPartial\": \"False\"}, {\"date\": \"2019-09-29T00:00:00\", \"donald trump\": 7, \"isPartial\": \"False\"}, {\"date\": \"2019-10-06T00:00:00\", \"donald trump\": 7, \"isPartial\": \"False\"}, {\"date\": \"2019-10-13T00:00:00\", \"donald trump\": 6, \"isPartial\": \"False\"}, {\"date\": \"2019-10-20T00:00:00\", \"donald trump\": 5, \"isPartial\": \"False\"}, {\"date\": \"2019-10-27T00:00:00\", \"donald trump\": 7, \"isPartial\": \"False\"}, {\"date\": \"2019-11-03T00:00:00\", \"donald trump\": 7, \"isPartial\": \"False\"}, {\"date\": \"2019-11-10T00:00:00\", \"donald trump\": 6, \"isPartial\": \"False\"}, {\"date\": \"2019-11-17T00:00:00\", \"donald trump\": 7, \"isPartial\": \"False\"}, {\"date\": \"2019-11-24T00:00:00\", \"donald trump\": 5, \"isPartial\": \"False\"}, {\"date\": \"2019-12-01T00:00:00\", \"donald trump\": 5, \"isPartial\": \"False\"}, {\"date\": \"2019-12-08T00:00:00\", \"donald trump\": 6, \"isPartial\": \"False\"}, {\"date\": \"2019-12-15T00:00:00\", \"donald trump\": 21, \"isPartial\": \"False\"}, {\"date\": \"2019-12-22T00:00:00\", \"donald trump\": 6, \"isPartial\": \"False\"}, {\"date\": \"2019-12-29T00:00:00\", \"donald trump\": 7, \"isPartial\": \"False\"}, {\"date\": \"2020-01-05T00:00:00\", \"donald trump\": 9, \"isPartial\": \"False\"}, {\"date\": \"2020-01-12T00:00:00\", \"donald trump\": 6, \"isPartial\": \"False\"}, {\"date\": \"2020-01-19T00:00:00\", \"donald trump\": 5, \"isPartial\": \"False\"}, {\"date\": \"2020-01-26T00:00:00\", \"donald trump\": 6, \"isPartial\": \"False\"}, {\"date\": \"2020-02-02T00:00:00\", \"donald trump\": 10, \"isPartial\": \"False\"}, {\"date\": \"2020-02-09T00:00:00\", \"donald trump\": 6, \"isPartial\": \"False\"}, {\"date\": \"2020-02-16T00:00:00\", \"donald trump\": 6, \"isPartial\": \"False\"}, {\"date\": \"2020-02-23T00:00:00\", \"donald trump\": 6, \"isPartial\": \"False\"}, {\"date\": \"2020-03-01T00:00:00\", \"donald trump\": 6, \"isPartial\": \"False\"}, {\"date\": \"2020-03-08T00:00:00\", \"donald trump\": 9, \"isPartial\": \"False\"}, {\"date\": \"2020-03-15T00:00:00\", \"donald trump\": 10, \"isPartial\": \"False\"}, {\"date\": \"2020-03-22T00:00:00\", \"donald trump\": 8, \"isPartial\": \"False\"}, {\"date\": \"2020-03-29T00:00:00\", \"donald trump\": 7, \"isPartial\": \"False\"}, {\"date\": \"2020-04-05T00:00:00\", \"donald trump\": 6, \"isPartial\": \"False\"}, {\"date\": \"2020-04-12T00:00:00\", \"donald trump\": 7, \"isPartial\": \"False\"}, {\"date\": \"2020-04-19T00:00:00\", \"donald trump\": 7, \"isPartial\": \"False\"}, {\"date\": \"2020-04-26T00:00:00\", \"donald trump\": 6, \"isPartial\": \"False\"}, {\"date\": \"2020-05-03T00:00:00\", \"donald trump\": 5, \"isPartial\": \"True\"}]}}, {\"mode\": \"vega-lite\"});\n",
       "</script>"
      ],
      "text/plain": [
       "alt.Chart(...)"
      ]
     },
     "execution_count": 8,
     "metadata": {},
     "output_type": "execute_result"
    }
   ],
   "source": []
  },
  {
   "cell_type": "code",
   "execution_count": null,
   "metadata": {},
   "outputs": [],
   "source": []
  },
  {
   "cell_type": "code",
   "execution_count": null,
   "metadata": {},
   "outputs": [],
   "source": []
  },
  {
   "cell_type": "code",
   "execution_count": null,
   "metadata": {},
   "outputs": [],
   "source": []
  },
  {
   "cell_type": "code",
   "execution_count": 73,
   "metadata": {},
   "outputs": [
    {
     "data": {
      "text/html": [
       "\n",
       "<div id=\"altair-viz-98b7cfebdf0d4cfdb54c60fedfe9cc85\"></div>\n",
       "<script type=\"text/javascript\">\n",
       "  (function(spec, embedOpt){\n",
       "    let outputDiv = document.currentScript.previousElementSibling;\n",
       "    if (outputDiv.id !== \"altair-viz-98b7cfebdf0d4cfdb54c60fedfe9cc85\") {\n",
       "      outputDiv = document.getElementById(\"altair-viz-98b7cfebdf0d4cfdb54c60fedfe9cc85\");\n",
       "    }\n",
       "    const paths = {\n",
       "      \"vega\": \"https://cdn.jsdelivr.net/npm//vega@5?noext\",\n",
       "      \"vega-lib\": \"https://cdn.jsdelivr.net/npm//vega-lib?noext\",\n",
       "      \"vega-lite\": \"https://cdn.jsdelivr.net/npm//vega-lite@4.8.1?noext\",\n",
       "      \"vega-embed\": \"https://cdn.jsdelivr.net/npm//vega-embed@6?noext\",\n",
       "    };\n",
       "\n",
       "    function loadScript(lib) {\n",
       "      return new Promise(function(resolve, reject) {\n",
       "        var s = document.createElement('script');\n",
       "        s.src = paths[lib];\n",
       "        s.async = true;\n",
       "        s.onload = () => resolve(paths[lib]);\n",
       "        s.onerror = () => reject(`Error loading script: ${paths[lib]}`);\n",
       "        document.getElementsByTagName(\"head\")[0].appendChild(s);\n",
       "      });\n",
       "    }\n",
       "\n",
       "    function showError(err) {\n",
       "      outputDiv.innerHTML = `<div class=\"error\" style=\"color:red;\">${err}</div>`;\n",
       "      throw err;\n",
       "    }\n",
       "\n",
       "    function displayChart(vegaEmbed) {\n",
       "      vegaEmbed(outputDiv, spec, embedOpt)\n",
       "        .catch(err => showError(`Javascript Error: ${err.message}<br>This usually means there's a typo in your chart specification. See the javascript console for the full traceback.`));\n",
       "    }\n",
       "\n",
       "    if(typeof define === \"function\" && define.amd) {\n",
       "      requirejs.config({paths});\n",
       "      require([\"vega-embed\"], displayChart, err => showError(`Error loading script: ${err.message}`));\n",
       "    } else if (typeof vegaEmbed === \"function\") {\n",
       "      displayChart(vegaEmbed);\n",
       "    } else {\n",
       "      loadScript(\"vega\")\n",
       "        .then(() => loadScript(\"vega-lite\"))\n",
       "        .then(() => loadScript(\"vega-embed\"))\n",
       "        .catch(showError)\n",
       "        .then(() => displayChart(vegaEmbed));\n",
       "    }\n",
       "  })({\"config\": {\"view\": {\"continuousWidth\": 400, \"continuousHeight\": 300}}, \"layer\": [{\"data\": {\"url\": \"https://vega.github.io/vega-datasets/data/us-10m.json\", \"format\": {\"feature\": \"states\", \"type\": \"topojson\"}}, \"mark\": {\"type\": \"geoshape\", \"fill\": \"#eee\", \"stroke\": \"black\"}, \"encoding\": {\"tooltip\": {\"type\": \"nominal\", \"field\": \"state_name\"}}, \"transform\": [{\"lookup\": \"id\", \"from\": {\"data\": {\"name\": \"data-2880e1afcf47e199e780e942bb1f1cdc\"}, \"key\": \"fips\", \"fields\": [\"scaled\", \"state_name\"]}}]}, {\"layer\": [{\"data\": {\"url\": \"https://vega.github.io/vega-datasets/data/us-10m.json\", \"format\": {\"feature\": \"states\", \"type\": \"topojson\"}}, \"mark\": {\"type\": \"geoshape\", \"fill\": \"#eee\", \"stroke\": \"black\"}, \"encoding\": {\"tooltip\": {\"type\": \"nominal\", \"field\": \"state_name\"}}, \"transform\": [{\"lookup\": \"id\", \"from\": {\"data\": {\"name\": \"data-2880e1afcf47e199e780e942bb1f1cdc\"}, \"key\": \"fips\", \"fields\": [\"scaled\", \"state_name\"]}}]}, {\"data\": {\"url\": \"https://vega.github.io/vega-datasets/data/us-10m.json\", \"format\": {\"feature\": \"states\", \"type\": \"topojson\"}}, \"mark\": {\"type\": \"geoshape\", \"fill\": \"#eee\", \"stroke\": \"black\"}, \"encoding\": {\"fill\": {\"type\": \"quantitative\", \"field\": \"scaled\", \"scale\": {\"scheme\": \"lightmulti\"}}, \"tooltip\": {\"type\": \"nominal\", \"field\": \"state_name\"}}, \"height\": 400, \"projection\": {\"type\": \"albersUsa\"}, \"title\": \"Breakdown by state\", \"transform\": [{\"lookup\": \"id\", \"from\": {\"data\": {\"name\": \"data-2880e1afcf47e199e780e942bb1f1cdc\"}, \"key\": \"fips\", \"fields\": [\"scaled\", \"state_name\"]}}], \"width\": 650}], \"encoding\": {\"fill\": {\"type\": \"quantitative\", \"field\": \"scaled\", \"scale\": {\"scheme\": \"lightmulti\"}}}, \"height\": 400, \"projection\": {\"type\": \"albersUsa\"}, \"title\": \"Breakdown by state\", \"width\": 650}], \"$schema\": \"https://vega.github.io/schema/vega-lite/v4.8.1.json\", \"datasets\": {\"data-2880e1afcf47e199e780e942bb1f1cdc\": [{\"geoName\": \"Arizona\", \"geoCode\": \"US-AZ\", \"dataisbeautiful\": 44.0, \"state_name\": \"Arizona\", \"state_abbr\": \"AZ\", \"long_name\": \"Arizona AZ\", \"fips\": 4, \"sumlev\": 40, \"region\": 4, \"division\": 8, \"state\": 4, \"region_name\": \"West\", \"division_name\": \"Mountain\", \"scaled\": 0.3}, {\"geoName\": \"California\", \"geoCode\": \"US-CA\", \"dataisbeautiful\": 71.0, \"state_name\": \"California\", \"state_abbr\": \"CA\", \"long_name\": \"California CA\", \"fips\": 6, \"sumlev\": 40, \"region\": 4, \"division\": 9, \"state\": 6, \"region_name\": \"West\", \"division_name\": \"Pacific\", \"scaled\": 0.6}, {\"geoName\": \"Colorado\", \"geoCode\": \"US-CO\", \"dataisbeautiful\": 37.0, \"state_name\": \"Colorado\", \"state_abbr\": \"CO\", \"long_name\": \"Colorado CO\", \"fips\": 8, \"sumlev\": 40, \"region\": 4, \"division\": 8, \"state\": 8, \"region_name\": \"West\", \"division_name\": \"Mountain\", \"scaled\": 0.2}, {\"geoName\": \"Florida\", \"geoCode\": \"US-FL\", \"dataisbeautiful\": 29.0, \"state_name\": \"Florida\", \"state_abbr\": \"FL\", \"long_name\": \"Florida FL\", \"fips\": 12, \"sumlev\": 40, \"region\": 3, \"division\": 5, \"state\": 12, \"region_name\": \"South\", \"division_name\": \"South Atlantic\", \"scaled\": 0.1}, {\"geoName\": \"Georgia\", \"geoCode\": \"US-GA\", \"dataisbeautiful\": 22.0, \"state_name\": \"Georgia\", \"state_abbr\": \"GA\", \"long_name\": \"Georgia GA\", \"fips\": 13, \"sumlev\": 40, \"region\": 3, \"division\": 5, \"state\": 13, \"region_name\": \"South\", \"division_name\": \"South Atlantic\", \"scaled\": 0.0}, {\"geoName\": \"Illinois\", \"geoCode\": \"US-IL\", \"dataisbeautiful\": 37.0, \"state_name\": \"Illinois\", \"state_abbr\": \"IL\", \"long_name\": \"Illinois IL\", \"fips\": 17, \"sumlev\": 40, \"region\": 2, \"division\": 3, \"state\": 17, \"region_name\": \"Midwest\", \"division_name\": \"East North Central\", \"scaled\": 0.2}, {\"geoName\": \"Maryland\", \"geoCode\": \"US-MD\", \"dataisbeautiful\": 66.0, \"state_name\": \"Maryland\", \"state_abbr\": \"MD\", \"long_name\": \"Maryland MD\", \"fips\": 24, \"sumlev\": 40, \"region\": 3, \"division\": 5, \"state\": 24, \"region_name\": \"South\", \"division_name\": \"South Atlantic\", \"scaled\": 0.6}, {\"geoName\": \"Massachusetts\", \"geoCode\": \"US-MA\", \"dataisbeautiful\": 100.0, \"state_name\": \"Massachusetts\", \"state_abbr\": \"MA\", \"long_name\": \"Massachusetts MA\", \"fips\": 25, \"sumlev\": 40, \"region\": 1, \"division\": 1, \"state\": 25, \"region_name\": \"Northeast\", \"division_name\": \"New England\", \"scaled\": 1.0}, {\"geoName\": \"Michigan\", \"geoCode\": \"US-MI\", \"dataisbeautiful\": 50.0, \"state_name\": \"Michigan\", \"state_abbr\": \"MI\", \"long_name\": \"Michigan MI\", \"fips\": 26, \"sumlev\": 40, \"region\": 2, \"division\": 3, \"state\": 26, \"region_name\": \"Midwest\", \"division_name\": \"East North Central\", \"scaled\": 0.4}, {\"geoName\": \"Minnesota\", \"geoCode\": \"US-MN\", \"dataisbeautiful\": 90.0, \"state_name\": \"Minnesota\", \"state_abbr\": \"MN\", \"long_name\": \"Minnesota MN\", \"fips\": 27, \"sumlev\": 40, \"region\": 2, \"division\": 4, \"state\": 27, \"region_name\": \"Midwest\", \"division_name\": \"West North Central\", \"scaled\": 0.9}, {\"geoName\": \"Missouri\", \"geoCode\": \"US-MO\", \"dataisbeautiful\": 34.0, \"state_name\": \"Missouri\", \"state_abbr\": \"MO\", \"long_name\": \"Missouri MO\", \"fips\": 29, \"sumlev\": 40, \"region\": 2, \"division\": 4, \"state\": 29, \"region_name\": \"Midwest\", \"division_name\": \"West North Central\", \"scaled\": 0.2}, {\"geoName\": \"New Jersey\", \"geoCode\": \"US-NJ\", \"dataisbeautiful\": 52.0, \"state_name\": \"New Jersey\", \"state_abbr\": \"NJ\", \"long_name\": \"New Jersey NJ\", \"fips\": 34, \"sumlev\": 40, \"region\": 1, \"division\": 2, \"state\": 34, \"region_name\": \"Northeast\", \"division_name\": \"Middle Atlantic\", \"scaled\": 0.4}, {\"geoName\": \"New York\", \"geoCode\": \"US-NY\", \"dataisbeautiful\": 71.0, \"state_name\": \"New York\", \"state_abbr\": \"NY\", \"long_name\": \"New York NY\", \"fips\": 36, \"sumlev\": 40, \"region\": 1, \"division\": 2, \"state\": 36, \"region_name\": \"Northeast\", \"division_name\": \"Middle Atlantic\", \"scaled\": 0.6}, {\"geoName\": \"North Carolina\", \"geoCode\": \"US-NC\", \"dataisbeautiful\": 36.0, \"state_name\": \"North Carolina\", \"state_abbr\": \"NC\", \"long_name\": \"North Carolina NC\", \"fips\": 37, \"sumlev\": 40, \"region\": 3, \"division\": 5, \"state\": 37, \"region_name\": \"South\", \"division_name\": \"South Atlantic\", \"scaled\": 0.2}, {\"geoName\": \"Ohio\", \"geoCode\": \"US-OH\", \"dataisbeautiful\": 26.0, \"state_name\": \"Ohio\", \"state_abbr\": \"OH\", \"long_name\": \"Ohio OH\", \"fips\": 39, \"sumlev\": 40, \"region\": 2, \"division\": 3, \"state\": 39, \"region_name\": \"Midwest\", \"division_name\": \"East North Central\", \"scaled\": 0.1}, {\"geoName\": \"Pennsylvania\", \"geoCode\": \"US-PA\", \"dataisbeautiful\": 37.0, \"state_name\": \"Pennsylvania\", \"state_abbr\": \"PA\", \"long_name\": \"Pennsylvania PA\", \"fips\": 42, \"sumlev\": 40, \"region\": 1, \"division\": 2, \"state\": 42, \"region_name\": \"Northeast\", \"division_name\": \"Middle Atlantic\", \"scaled\": 0.2}, {\"geoName\": \"Texas\", \"geoCode\": \"US-TX\", \"dataisbeautiful\": 39.0, \"state_name\": \"Texas\", \"state_abbr\": \"TX\", \"long_name\": \"Texas TX\", \"fips\": 48, \"sumlev\": 40, \"region\": 3, \"division\": 7, \"state\": 48, \"region_name\": \"South\", \"division_name\": \"West South Central\", \"scaled\": 0.2}, {\"geoName\": \"Utah\", \"geoCode\": \"US-UT\", \"dataisbeautiful\": 65.0, \"state_name\": \"Utah\", \"state_abbr\": \"UT\", \"long_name\": \"Utah UT\", \"fips\": 49, \"sumlev\": 40, \"region\": 4, \"division\": 8, \"state\": 49, \"region_name\": \"West\", \"division_name\": \"Mountain\", \"scaled\": 0.6}, {\"geoName\": \"Virginia\", \"geoCode\": \"US-VA\", \"dataisbeautiful\": 77.0, \"state_name\": \"Virginia\", \"state_abbr\": \"VA\", \"long_name\": \"Virginia VA\", \"fips\": 51, \"sumlev\": 40, \"region\": 3, \"division\": 5, \"state\": 51, \"region_name\": \"South\", \"division_name\": \"South Atlantic\", \"scaled\": 0.7}, {\"geoName\": \"Washington\", \"geoCode\": \"US-WA\", \"dataisbeautiful\": 58.0, \"state_name\": \"Washington\", \"state_abbr\": \"WA\", \"long_name\": \"Washington WA\", \"fips\": 53, \"sumlev\": 40, \"region\": 4, \"division\": 9, \"state\": 53, \"region_name\": \"West\", \"division_name\": \"Pacific\", \"scaled\": 0.5}, {\"geoName\": \"Wisconsin\", \"geoCode\": \"US-WI\", \"dataisbeautiful\": 48.0, \"state_name\": \"Wisconsin\", \"state_abbr\": \"WI\", \"long_name\": \"Wisconsin WI\", \"fips\": 55, \"sumlev\": 40, \"region\": 2, \"division\": 3, \"state\": 55, \"region_name\": \"Midwest\", \"division_name\": \"East North Central\", \"scaled\": 0.3}, {\"geoName\": null, \"geoCode\": null, \"dataisbeautiful\": null, \"state_name\": \"Alabama\", \"state_abbr\": \"AL\", \"long_name\": \"Alabama AL\", \"fips\": 1, \"sumlev\": 40, \"region\": 3, \"division\": 6, \"state\": 1, \"region_name\": \"South\", \"division_name\": \"East South Central\", \"scaled\": null}, {\"geoName\": null, \"geoCode\": null, \"dataisbeautiful\": null, \"state_name\": \"Alaska\", \"state_abbr\": \"AK\", \"long_name\": \"Alaska AK\", \"fips\": 2, \"sumlev\": 40, \"region\": 4, \"division\": 9, \"state\": 2, \"region_name\": \"West\", \"division_name\": \"Pacific\", \"scaled\": null}, {\"geoName\": null, \"geoCode\": null, \"dataisbeautiful\": null, \"state_name\": \"Arkansas\", \"state_abbr\": \"AR\", \"long_name\": \"Arkansas AR\", \"fips\": 5, \"sumlev\": 40, \"region\": 3, \"division\": 7, \"state\": 5, \"region_name\": \"South\", \"division_name\": \"West South Central\", \"scaled\": null}, {\"geoName\": null, \"geoCode\": null, \"dataisbeautiful\": null, \"state_name\": \"Connecticut\", \"state_abbr\": \"CT\", \"long_name\": \"Connecticut CT\", \"fips\": 9, \"sumlev\": 40, \"region\": 1, \"division\": 1, \"state\": 9, \"region_name\": \"Northeast\", \"division_name\": \"New England\", \"scaled\": null}, {\"geoName\": null, \"geoCode\": null, \"dataisbeautiful\": null, \"state_name\": \"Delaware\", \"state_abbr\": \"DE\", \"long_name\": \"Delaware DE\", \"fips\": 10, \"sumlev\": 40, \"region\": 3, \"division\": 5, \"state\": 10, \"region_name\": \"South\", \"division_name\": \"South Atlantic\", \"scaled\": null}, {\"geoName\": null, \"geoCode\": null, \"dataisbeautiful\": null, \"state_name\": \"Hawaii\", \"state_abbr\": \"HI\", \"long_name\": \"Hawaii HI\", \"fips\": 15, \"sumlev\": 40, \"region\": 4, \"division\": 9, \"state\": 15, \"region_name\": \"West\", \"division_name\": \"Pacific\", \"scaled\": null}, {\"geoName\": null, \"geoCode\": null, \"dataisbeautiful\": null, \"state_name\": \"Idaho\", \"state_abbr\": \"ID\", \"long_name\": \"Idaho ID\", \"fips\": 16, \"sumlev\": 40, \"region\": 4, \"division\": 8, \"state\": 16, \"region_name\": \"West\", \"division_name\": \"Mountain\", \"scaled\": null}, {\"geoName\": null, \"geoCode\": null, \"dataisbeautiful\": null, \"state_name\": \"Indiana\", \"state_abbr\": \"IN\", \"long_name\": \"Indiana IN\", \"fips\": 18, \"sumlev\": 40, \"region\": 2, \"division\": 3, \"state\": 18, \"region_name\": \"Midwest\", \"division_name\": \"East North Central\", \"scaled\": null}, {\"geoName\": null, \"geoCode\": null, \"dataisbeautiful\": null, \"state_name\": \"Iowa\", \"state_abbr\": \"IA\", \"long_name\": \"Iowa IA\", \"fips\": 19, \"sumlev\": 40, \"region\": 2, \"division\": 4, \"state\": 19, \"region_name\": \"Midwest\", \"division_name\": \"West North Central\", \"scaled\": null}, {\"geoName\": null, \"geoCode\": null, \"dataisbeautiful\": null, \"state_name\": \"Kansas\", \"state_abbr\": \"KS\", \"long_name\": \"Kansas KS\", \"fips\": 20, \"sumlev\": 40, \"region\": 2, \"division\": 4, \"state\": 20, \"region_name\": \"Midwest\", \"division_name\": \"West North Central\", \"scaled\": null}, {\"geoName\": null, \"geoCode\": null, \"dataisbeautiful\": null, \"state_name\": \"Kentucky\", \"state_abbr\": \"KY\", \"long_name\": \"Kentucky KY\", \"fips\": 21, \"sumlev\": 40, \"region\": 3, \"division\": 6, \"state\": 21, \"region_name\": \"South\", \"division_name\": \"East South Central\", \"scaled\": null}, {\"geoName\": null, \"geoCode\": null, \"dataisbeautiful\": null, \"state_name\": \"Louisiana\", \"state_abbr\": \"LA\", \"long_name\": \"Louisiana LA\", \"fips\": 22, \"sumlev\": 40, \"region\": 3, \"division\": 7, \"state\": 22, \"region_name\": \"South\", \"division_name\": \"West South Central\", \"scaled\": null}, {\"geoName\": null, \"geoCode\": null, \"dataisbeautiful\": null, \"state_name\": \"Maine\", \"state_abbr\": \"ME\", \"long_name\": \"Maine ME\", \"fips\": 23, \"sumlev\": 40, \"region\": 1, \"division\": 1, \"state\": 23, \"region_name\": \"Northeast\", \"division_name\": \"New England\", \"scaled\": null}, {\"geoName\": null, \"geoCode\": null, \"dataisbeautiful\": null, \"state_name\": \"Mississippi\", \"state_abbr\": \"MS\", \"long_name\": \"Mississippi MS\", \"fips\": 28, \"sumlev\": 40, \"region\": 3, \"division\": 6, \"state\": 28, \"region_name\": \"South\", \"division_name\": \"East South Central\", \"scaled\": null}, {\"geoName\": null, \"geoCode\": null, \"dataisbeautiful\": null, \"state_name\": \"Montana\", \"state_abbr\": \"MT\", \"long_name\": \"Montana MT\", \"fips\": 30, \"sumlev\": 40, \"region\": 4, \"division\": 8, \"state\": 30, \"region_name\": \"West\", \"division_name\": \"Mountain\", \"scaled\": null}, {\"geoName\": null, \"geoCode\": null, \"dataisbeautiful\": null, \"state_name\": \"Nebraska\", \"state_abbr\": \"NE\", \"long_name\": \"Nebraska NE\", \"fips\": 31, \"sumlev\": 40, \"region\": 2, \"division\": 4, \"state\": 31, \"region_name\": \"Midwest\", \"division_name\": \"West North Central\", \"scaled\": null}, {\"geoName\": null, \"geoCode\": null, \"dataisbeautiful\": null, \"state_name\": \"Nevada\", \"state_abbr\": \"NV\", \"long_name\": \"Nevada NV\", \"fips\": 32, \"sumlev\": 40, \"region\": 4, \"division\": 8, \"state\": 32, \"region_name\": \"West\", \"division_name\": \"Mountain\", \"scaled\": null}, {\"geoName\": null, \"geoCode\": null, \"dataisbeautiful\": null, \"state_name\": \"New Hampshire\", \"state_abbr\": \"NH\", \"long_name\": \"New Hampshire NH\", \"fips\": 33, \"sumlev\": 40, \"region\": 1, \"division\": 1, \"state\": 33, \"region_name\": \"Northeast\", \"division_name\": \"New England\", \"scaled\": null}, {\"geoName\": null, \"geoCode\": null, \"dataisbeautiful\": null, \"state_name\": \"New Mexico\", \"state_abbr\": \"NM\", \"long_name\": \"New Mexico NM\", \"fips\": 35, \"sumlev\": 40, \"region\": 4, \"division\": 8, \"state\": 35, \"region_name\": \"West\", \"division_name\": \"Mountain\", \"scaled\": null}, {\"geoName\": null, \"geoCode\": null, \"dataisbeautiful\": null, \"state_name\": \"North Dakota\", \"state_abbr\": \"ND\", \"long_name\": \"North Dakota ND\", \"fips\": 38, \"sumlev\": 40, \"region\": 2, \"division\": 4, \"state\": 38, \"region_name\": \"Midwest\", \"division_name\": \"West North Central\", \"scaled\": null}, {\"geoName\": null, \"geoCode\": null, \"dataisbeautiful\": null, \"state_name\": \"Oklahoma\", \"state_abbr\": \"OK\", \"long_name\": \"Oklahoma OK\", \"fips\": 40, \"sumlev\": 40, \"region\": 3, \"division\": 7, \"state\": 40, \"region_name\": \"South\", \"division_name\": \"West South Central\", \"scaled\": null}, {\"geoName\": null, \"geoCode\": null, \"dataisbeautiful\": null, \"state_name\": \"Oregon\", \"state_abbr\": \"OR\", \"long_name\": \"Oregon OR\", \"fips\": 41, \"sumlev\": 40, \"region\": 4, \"division\": 9, \"state\": 41, \"region_name\": \"West\", \"division_name\": \"Pacific\", \"scaled\": null}, {\"geoName\": null, \"geoCode\": null, \"dataisbeautiful\": null, \"state_name\": \"Rhode Island\", \"state_abbr\": \"RI\", \"long_name\": \"Rhode Island RI\", \"fips\": 44, \"sumlev\": 40, \"region\": 1, \"division\": 1, \"state\": 44, \"region_name\": \"Northeast\", \"division_name\": \"New England\", \"scaled\": null}, {\"geoName\": null, \"geoCode\": null, \"dataisbeautiful\": null, \"state_name\": \"South Carolina\", \"state_abbr\": \"SC\", \"long_name\": \"South Carolina SC\", \"fips\": 45, \"sumlev\": 40, \"region\": 3, \"division\": 5, \"state\": 45, \"region_name\": \"South\", \"division_name\": \"South Atlantic\", \"scaled\": null}, {\"geoName\": null, \"geoCode\": null, \"dataisbeautiful\": null, \"state_name\": \"South Dakota\", \"state_abbr\": \"SD\", \"long_name\": \"South Dakota SD\", \"fips\": 46, \"sumlev\": 40, \"region\": 2, \"division\": 4, \"state\": 46, \"region_name\": \"Midwest\", \"division_name\": \"West North Central\", \"scaled\": null}, {\"geoName\": null, \"geoCode\": null, \"dataisbeautiful\": null, \"state_name\": \"Tennessee\", \"state_abbr\": \"TN\", \"long_name\": \"Tennessee TN\", \"fips\": 47, \"sumlev\": 40, \"region\": 3, \"division\": 6, \"state\": 47, \"region_name\": \"South\", \"division_name\": \"East South Central\", \"scaled\": null}, {\"geoName\": null, \"geoCode\": null, \"dataisbeautiful\": null, \"state_name\": \"Vermont\", \"state_abbr\": \"VT\", \"long_name\": \"Vermont VT\", \"fips\": 50, \"sumlev\": 40, \"region\": 1, \"division\": 1, \"state\": 50, \"region_name\": \"Northeast\", \"division_name\": \"New England\", \"scaled\": null}, {\"geoName\": null, \"geoCode\": null, \"dataisbeautiful\": null, \"state_name\": \"West Virginia\", \"state_abbr\": \"WV\", \"long_name\": \"West Virginia WV\", \"fips\": 54, \"sumlev\": 40, \"region\": 3, \"division\": 5, \"state\": 54, \"region_name\": \"South\", \"division_name\": \"South Atlantic\", \"scaled\": null}, {\"geoName\": null, \"geoCode\": null, \"dataisbeautiful\": null, \"state_name\": \"Wyoming\", \"state_abbr\": \"WY\", \"long_name\": \"Wyoming WY\", \"fips\": 56, \"sumlev\": 40, \"region\": 4, \"division\": 8, \"state\": 56, \"region_name\": \"West\", \"division_name\": \"Mountain\", \"scaled\": null}]}}, {\"mode\": \"vega-lite\"});\n",
       "</script>"
      ],
      "text/plain": [
       "alt.LayerChart(...)"
      ]
     },
     "execution_count": 73,
     "metadata": {},
     "output_type": "execute_result"
    }
   ],
   "source": [
    "import altair as alt\n",
    "from vega_datasets import data\n",
    "\n",
    "states = alt.topo_feature(data.us_10m.url, 'states')\n",
    "state_fips = pd.read_csv('https://raw.githubusercontent.com/kjhealy/fips-codes/master/state_fips_master.csv')\n",
    "geo_query = geo.merge(state_fips, right_on='state_name', left_on='geoName',  how = 'outer')\n",
    "\n",
    "from sklearn.preprocessing import MinMaxScaler\n",
    "scaler = MinMaxScaler()\n",
    "\n",
    "geo_query['scaled'] = scaler.fit_transform(geo_query[kw_list].values.reshape(-1,1)).round(1)\n",
    "# US states background\n",
    "base_map = alt.Chart(states).mark_geoshape(\n",
    "    stroke='black',\n",
    "    fill='#eee',\n",
    ").transform_lookup(\n",
    "    lookup='id',\n",
    "    from_=alt.LookupData(geo_query, 'fips', ['scaled', 'state_name'])\n",
    ").encode(\n",
    "    tooltip='state_name:N'\n",
    ")\n",
    "\n",
    "encoded = base_map.encode(\n",
    "    fill=alt.Color('scaled:Q', scale=alt.Scale(scheme='lightmulti'))\n",
    ").properties(\n",
    "    title='Breakdown by state',\n",
    "    width=650,\n",
    "    height=400\n",
    ").project('albersUsa')\n",
    "\n",
    "map_plot = base_map + encoded \n",
    "map_plot"
   ]
  },
  {
   "cell_type": "code",
   "execution_count": null,
   "metadata": {},
   "outputs": [],
   "source": [
    "from datapane import Report, Plot, Table, Markdown, Asset\n",
    "\n",
    "r = [\n",
    "    Markdown(f\"\"\"# Google Trend Analysis - {kw_list}\n",
    "What are the Google trends for {kw_list}? Which US states are most interested? This script pulls data from the Google Trends API to find out...\n",
    "\"\"\"),\n",
    "    Table.create(geo),\n",
    "    Plot.create(r_o_t_plot),\n",
    "    Markdown(f\"\"\"\n",
    "# Keyword geography interest\n",
    "\n",
    "We can also query Google Trends to find which states search the most, and plot it on a map.\"\"\"),\n",
    "Plot.create(map_plot)\n",
    "]\n",
    "\n",
    "Report.create(*r)"
   ]
  },
  {
   "cell_type": "code",
   "execution_count": null,
   "metadata": {},
   "outputs": [],
   "source": []
  },
  {
   "cell_type": "code",
   "execution_count": null,
   "metadata": {},
   "outputs": [],
   "source": []
  },
  {
   "cell_type": "code",
   "execution_count": null,
   "metadata": {},
   "outputs": [],
   "source": []
  },
  {
   "cell_type": "code",
   "execution_count": null,
   "metadata": {},
   "outputs": [],
   "source": []
  },
  {
   "cell_type": "code",
   "execution_count": null,
   "metadata": {},
   "outputs": [],
   "source": []
  }
 ],
 "metadata": {
  "kernelspec": {
   "display_name": "Python 3",
   "language": "python",
   "name": "python3"
  },
  "language_info": {
   "codemirror_mode": {
    "name": "ipython",
    "version": 3
   },
   "file_extension": ".py",
   "mimetype": "text/x-python",
   "name": "python",
   "nbconvert_exporter": "python",
   "pygments_lexer": "ipython3",
   "version": "3.8.1"
  }
 },
 "nbformat": 4,
 "nbformat_minor": 4
}
